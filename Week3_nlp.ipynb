{
  "nbformat": 4,
  "nbformat_minor": 0,
  "metadata": {
    "colab": {
      "name": "Week3_nlp.ipynb",
      "provenance": [],
      "collapsed_sections": [],
      "authorship_tag": "ABX9TyOkaGiVQnl9uuO8keEf46Mo",
      "include_colab_link": true
    },
    "kernelspec": {
      "name": "python3",
      "display_name": "Python 3"
    },
    "language_info": {
      "name": "python"
    }
  },
  "cells": [
    {
      "cell_type": "markdown",
      "metadata": {
        "id": "view-in-github",
        "colab_type": "text"
      },
      "source": [
        "<a href=\"https://colab.research.google.com/github/quang-vn26/NLP/blob/main/Week3_nlp.ipynb\" target=\"_parent\"><img src=\"https://colab.research.google.com/assets/colab-badge.svg\" alt=\"Open In Colab\"/></a>"
      ]
    },
    {
      "cell_type": "markdown",
      "metadata": {
        "id": "xc5tlMsQzOrK"
      },
      "source": [
        "## **Bai 1**"
      ]
    },
    {
      "cell_type": "code",
      "metadata": {
        "id": "b7ynGzqiVzrT"
      },
      "source": [
        "from bs4 import BeautifulSoup\n",
        "from pprint import pprint\n",
        "import requests\n",
        "\n",
        "import nltk,re\n",
        "\n",
        "from nltk.corpus import stopwords\n",
        "from nltk.tokenize import word_tokenize,sent_tokenize\n",
        "\n",
        "from textblob import TextBlob\n",
        "from collections import Counter"
      ],
      "execution_count": null,
      "outputs": []
    },
    {
      "cell_type": "code",
      "metadata": {
        "id": "AE8Q69TtWCpS"
      },
      "source": [
        "url = 'https://www.ccctechcenter.org/about/technology-center-contacts'"
      ],
      "execution_count": null,
      "outputs": []
    },
    {
      "cell_type": "code",
      "metadata": {
        "id": "XpJtkuY0b629"
      },
      "source": [
        "def delete_multiple_space(text):\n",
        "  r = re.sub('\\s+',' ',text)\n",
        "  return r\n",
        " "
      ],
      "execution_count": null,
      "outputs": []
    },
    {
      "cell_type": "code",
      "metadata": {
        "id": "uQJBo3utWFDb"
      },
      "source": [
        "def get_info(url):\n",
        "  response = requests.get(url)\n",
        "  soup = BeautifulSoup(response.content,'html.parser')\n",
        "  post_detail = soup.find('table',class_=\"table\").get_text()\n",
        "  r = delete_multiple_space(post_detail)\n",
        "  return r\n",
        "  # pass"
      ],
      "execution_count": null,
      "outputs": []
    },
    {
      "cell_type": "code",
      "metadata": {
        "colab": {
          "base_uri": "https://localhost:8080/"
        },
        "id": "6Fzaj5GWWI81",
        "outputId": "3a5251a6-8826-47f1-dd63-5c332c6fa618"
      },
      "source": [
        "# lay noi dung\n",
        "content = get_info(url)\n",
        "print(content)"
      ],
      "execution_count": null,
      "outputs": [
        {
          "output_type": "stream",
          "name": "stdout",
          "text": [
            " Name Position Department Email Phone Tim Calhoon Executive Director Technology Center tcalhoon@ccctechcenter.org 530.879.4091 David Albrecht Information Security Systems Engineer IT dalbrecht@ccctechcenter.org 530.566.2367 Angela Baucom Project Manager Accessibility Center abaucom@ccctechcenter.org 530.636.2518 Michael Caruso Product Manager, CCC MyPath Student Success Suite mcaruso@ccctechcenter.org 707.318.1881 Sandoval Chagoya Director Communications & Marketing schagoya@ccctechcenter.org 530.566.4545 Mark Cohen Product Manager Infrastructure & Data mcohen@ccctechcenter.org 530.879.4179 Dr. Jennifer Coleman Statewide Program Director Student Success Suite jcoleman@ccctechcenter.org 530.879.4165 Emmett Culley Sr. Software Engineer IT eculley@ccctechcenter.org 530.879.4090 Cindy McCartney Project Manager Information Security Center cmccartney@ccctechcenter.org 530.879.4082 Rebecca Miller Project Manager Communications & Marketing rmiller@ccctechcenter.org 530.321.8091 Dane Mutters Systems Administrator IT dmutters@ccctechcenter.org 530.879.4092 Ashwini Nambiar IT / Engineering Manager IT anambiar@ccctechcenter.org 530.552.1234 Dawn Okinaka Director Accessibility Center dokinaka@ccctechcenter.org Westley Owen Sr. Software Engineer IT wowen@ccctechcenter.org 530.879.4083 Michael Rajkumar Lead Implementation Project Manager Enabling Services mrajkumar@ccctechcenter.org 530.433.9451 Michael Searson Sr. Software Engineer IT msearson@ccctechcenter.org David Shippen, MPS, PMP Director Business Operations dshippen@ccctechcenter.org 530.879.4167 John Sills Product Manager Infrastructure & Data jsills@ccctechcenter.org 530.879.4172 Rick Snodgrass Project Manager Student Success Suite rsnodgrass@ccctechcenter.org 530.879.4169 Amy Snyder Implementation Readiness Lead Enabling Services asnyder@ccctechcenter.org 530.879.4171 Melissa Taylor Implementation Project Manager Enabling Services mtaylor@ccctechcenter.org Tee Thor Call Center Representative Support Services tthor@ccctechcenter.org 530.879.4174 Bryan Wakefield Systems Administrator IT bwakefield@ccctechcenter.org 530.879.4089 Merrie Wales Support Engineer Support Services mwales@ccctechcenter.org 530.936.7410 Warren Whitmore Program Manager Enabling Services wwhitmore@ccctechcenter.org 530.332.8185 Irma Angelica Mojica Call Center Representative Support Services izamora@ccctechcenter.org 530.895.2284 Patty Donohue Product Documentation & Communications Enabling Services pdonohue@ccctechcenter.org 530.228.2446 Jonathan Fanucchi Project Manager Infrastructure & Data jfanucchi@ccctechcenter.org 530.433.4335 UT Fong Sr. Software Engineer IT ufong@ccctechcenter.org Tamara Fredrikson Sr. Software Engineer IT tgredrikson@ccctechcenter.org 530.871.9971 Roberto Fuentes Manager Support Services rfuentes@ccctechcenter.org 530.879.4081 Matthew Johnson Sr. Software Engineer IT mjohnson@ccctechcenter.org Aamir Khan Chief Information Security Officer Information Security Center akhan@ccctechcenter.org Steve Klein Statewide Program Manager Infrastructure & Data sklein@ccctechcenter.org 530.879.4166 Jane Linder Product Manager Student Success Suite jlinder@ccctechcenter.org 530.552.1053 Monica Matousek College Relationship Manager Enabling Services mmatousek@ccctechcenter.org 530.879.4174 Amber Tamagni Project Manager Business Operations atamagni@ccctechcenter.org Arlinda Black Admin. Secretary - Grants Business Operations ablack@ccctechcenter.org Benjamin Stout Sr. Software Engineer IT bstout@ccctechcenter.org Brian Schroeder Software Architect IT bschroeder@ccctechcenter.org Bruce Racheter Project Manager Business Operations bracheter@ccctechcenter.org 530.879.4084 James Whetstone Sr. Software Engineer IT jwhetstone@ccctechcenter.org Kasey Crosby Support Engineer Enabling Services kcrosby@ccctechcenter.org Mady Schott Admin. Secretary - Grants Business Operations mschott@ccctechcenter.org 530.879.4181 Paul Weatherby Sr. Software Engineer IT pweatherby@ccctechcenter.org Adrian Teo Chief Technology Officer IT ateo@ccctechcenter.org 530.712.3717 Daniel Kenney Project Manager Business Operations dkenney@ccctechcenter.org Jennifer Bramlage Account Clerk II Business Operations jbramlage@ccctechcenter.org 530.879.4177 \n"
          ]
        }
      ]
    },
    {
      "cell_type": "code",
      "metadata": {
        "id": "CBxkww48c0Jc"
      },
      "source": [
        "def get_10_url(url):\n",
        "  response = requests.get(url)\n",
        "  soup = BeautifulSoup(response.content,'html.parser')\n",
        "  detail = soup.find('table',class_=\"table\")\n",
        "  links = []\n",
        "  for link in detail.find_all('a'):\n",
        "    links.append(\"https://www.ccctechcenter.org\"+link.get('href'))\n",
        "  print(links)\n",
        "  return links[:10]"
      ],
      "execution_count": null,
      "outputs": []
    },
    {
      "cell_type": "code",
      "metadata": {
        "colab": {
          "base_uri": "https://localhost:8080/"
        },
        "id": "9McuG5Qua8l5",
        "outputId": "b20fec52-7146-48fb-8782-0053ed61988f"
      },
      "source": [
        "# lay 10 link trong cung 1 muc\n",
        "url_list = get_10_url(url)\n",
        "print(url_list)"
      ],
      "execution_count": null,
      "outputs": [
        {
          "output_type": "stream",
          "name": "stdout",
          "text": [
            "['https://www.ccctechcenter.org/about/technology-center-contacts/4-tim-calhoon', 'https://www.ccctechcenter.org/about/technology-center-contacts/5-david-albrecht', 'https://www.ccctechcenter.org/about/technology-center-contacts/6-angela-baucom', 'https://www.ccctechcenter.org/about/technology-center-contacts/7-michael-caruso', 'https://www.ccctechcenter.org/about/technology-center-contacts/8-sandoval-chagoya', 'https://www.ccctechcenter.org/about/technology-center-contacts/9-mark-cohen', 'https://www.ccctechcenter.org/about/technology-center-contacts/10-dr-jennifer-coleman', 'https://www.ccctechcenter.org/about/technology-center-contacts/11-emmett-culley', 'https://www.ccctechcenter.org/about/technology-center-contacts/12-cindy-mccartney', 'https://www.ccctechcenter.org/about/technology-center-contacts/13-rebecca-miller', 'https://www.ccctechcenter.org/about/technology-center-contacts/14-dane-mutters', 'https://www.ccctechcenter.org/about/technology-center-contacts/15-ashwini-nambiar', 'https://www.ccctechcenter.org/about/technology-center-contacts/16-dawn-okinaka', 'https://www.ccctechcenter.org/about/technology-center-contacts/17-westley-owen', 'https://www.ccctechcenter.org/about/technology-center-contacts/18-michael-rajkumar', 'https://www.ccctechcenter.org/about/technology-center-contacts/19-michael-searson', 'https://www.ccctechcenter.org/about/technology-center-contacts/20-david-shippen-mps-pmp', 'https://www.ccctechcenter.org/about/technology-center-contacts/21-john-sills', 'https://www.ccctechcenter.org/about/technology-center-contacts/22-rick-snodgrass', 'https://www.ccctechcenter.org/about/technology-center-contacts/23-amy-snyder', 'https://www.ccctechcenter.org/about/technology-center-contacts/24-melissa-taylor', 'https://www.ccctechcenter.org/about/technology-center-contacts/25-tee-thor', 'https://www.ccctechcenter.org/about/technology-center-contacts/26-bryan-wakefield', 'https://www.ccctechcenter.org/about/technology-center-contacts/27-merrie-wales', 'https://www.ccctechcenter.org/about/technology-center-contacts/28-warren-whitmore', 'https://www.ccctechcenter.org/about/technology-center-contacts/29-irma-angelica-zamora', 'https://www.ccctechcenter.org/about/technology-center-contacts/30-patty-donohue', 'https://www.ccctechcenter.org/about/technology-center-contacts/31-jonathan-fanucchi', 'https://www.ccctechcenter.org/about/technology-center-contacts/32-ut-fong', 'https://www.ccctechcenter.org/about/technology-center-contacts/33-tamara-fredrikson', 'https://www.ccctechcenter.org/about/technology-center-contacts/34-roberto-fuentes', 'https://www.ccctechcenter.org/about/technology-center-contacts/37-matthew-johnson', 'https://www.ccctechcenter.org/about/technology-center-contacts/38-aamir-khan', 'https://www.ccctechcenter.org/about/technology-center-contacts/39-steve-klein', 'https://www.ccctechcenter.org/about/technology-center-contacts/40-jane-linder', 'https://www.ccctechcenter.org/about/technology-center-contacts/41-monica-matousek', 'https://www.ccctechcenter.org/about/technology-center-contacts/43-amber-tamagni', 'https://www.ccctechcenter.org/about/technology-center-contacts/44-arlinda-black', 'https://www.ccctechcenter.org/about/technology-center-contacts/45-benjamin-stout', 'https://www.ccctechcenter.org/about/technology-center-contacts/46-brian-schroeder', 'https://www.ccctechcenter.org/about/technology-center-contacts/47-bruce-racheter', 'https://www.ccctechcenter.org/about/technology-center-contacts/48-james-whetstone', 'https://www.ccctechcenter.org/about/technology-center-contacts/49-kasey-crosby', 'https://www.ccctechcenter.org/about/technology-center-contacts/50-mady-schott', 'https://www.ccctechcenter.org/about/technology-center-contacts/51-paul-weatherby', 'https://www.ccctechcenter.org/about/technology-center-contacts/52-adrian-teo', 'https://www.ccctechcenter.org/about/technology-center-contacts/53-daniel-kenney', 'https://www.ccctechcenter.org/about/technology-center-contacts/54-jennifer-bramlage']\n",
            "['https://www.ccctechcenter.org/about/technology-center-contacts/4-tim-calhoon', 'https://www.ccctechcenter.org/about/technology-center-contacts/5-david-albrecht', 'https://www.ccctechcenter.org/about/technology-center-contacts/6-angela-baucom', 'https://www.ccctechcenter.org/about/technology-center-contacts/7-michael-caruso', 'https://www.ccctechcenter.org/about/technology-center-contacts/8-sandoval-chagoya', 'https://www.ccctechcenter.org/about/technology-center-contacts/9-mark-cohen', 'https://www.ccctechcenter.org/about/technology-center-contacts/10-dr-jennifer-coleman', 'https://www.ccctechcenter.org/about/technology-center-contacts/11-emmett-culley', 'https://www.ccctechcenter.org/about/technology-center-contacts/12-cindy-mccartney', 'https://www.ccctechcenter.org/about/technology-center-contacts/13-rebecca-miller']\n"
          ]
        }
      ]
    },
    {
      "cell_type": "code",
      "metadata": {
        "id": "Q6nhdOMhiSfg"
      },
      "source": [
        "'''\n",
        "$\tMatches the end of the line\n",
        "\\s\tMatches whitespace\n",
        "\\S\tMatches any non-whitespace character\n",
        "*\tRepeats a character zero or more times\n",
        "\\S\tMatches any non-whitespace character\n",
        "*?\tRepeats a character zero or more times (non-greedy)\n",
        "+\tRepeats a character one or more times\n",
        "+?\tRepeats a character one or more times (non-greedy)\n",
        "[aeiou]\tMatches a single character in the listed set\n",
        "[^XYZ]\tMatches a single character not in the listed set\n",
        "[a-z0-9]\tThe set of characters can include a range\n",
        "(\tIndicates where string extraction is to start\n",
        ")\tIndicates where string extraction is to end\n",
        "'''\n",
        "def get_email(content):\n",
        "  lst = re.findall('\\S+@\\S+', content)     \n",
        "  return lst\n",
        "def get_phone_number(url_list):\n",
        "  print(url_list)\n",
        "  list = []\n",
        "  for i in url_list:\n",
        "    response = requests.get(i)\n",
        "    soup = BeautifulSoup(response.content,'html.parser')\n",
        "    content = soup.find('span',class_=\"contact-telephone\").get_text()\n",
        "    phone = re.findall(r'\\(?\\b[2-9][0-9]{2}\\)?[-. ]?[2-9][0-9]{2}[-. ]?[0-9]{4}\\b',content)\n",
        "    list.append(phone[0])\n",
        "  return list"
      ],
      "execution_count": null,
      "outputs": []
    },
    {
      "cell_type": "code",
      "metadata": {
        "colab": {
          "base_uri": "https://localhost:8080/"
        },
        "id": "FZeT6tyzXdh4",
        "outputId": "ba07f7bb-0144-498b-cd59-3e0de1674bea"
      },
      "source": [
        "lst_email = get_email(content)\n",
        "print(lst_email)"
      ],
      "execution_count": null,
      "outputs": [
        {
          "output_type": "stream",
          "name": "stdout",
          "text": [
            "['tcalhoon@ccctechcenter.org', 'dalbrecht@ccctechcenter.org', 'abaucom@ccctechcenter.org', 'mcaruso@ccctechcenter.org', 'schagoya@ccctechcenter.org', 'mcohen@ccctechcenter.org', 'jcoleman@ccctechcenter.org', 'eculley@ccctechcenter.org', 'cmccartney@ccctechcenter.org', 'rmiller@ccctechcenter.org', 'dmutters@ccctechcenter.org', 'anambiar@ccctechcenter.org', 'dokinaka@ccctechcenter.org', 'wowen@ccctechcenter.org', 'mrajkumar@ccctechcenter.org', 'msearson@ccctechcenter.org', 'dshippen@ccctechcenter.org', 'jsills@ccctechcenter.org', 'rsnodgrass@ccctechcenter.org', 'asnyder@ccctechcenter.org', 'mtaylor@ccctechcenter.org', 'tthor@ccctechcenter.org', 'bwakefield@ccctechcenter.org', 'mwales@ccctechcenter.org', 'wwhitmore@ccctechcenter.org', 'izamora@ccctechcenter.org', 'pdonohue@ccctechcenter.org', 'jfanucchi@ccctechcenter.org', 'ufong@ccctechcenter.org', 'tgredrikson@ccctechcenter.org', 'rfuentes@ccctechcenter.org', 'mjohnson@ccctechcenter.org', 'akhan@ccctechcenter.org', 'sklein@ccctechcenter.org', 'jlinder@ccctechcenter.org', 'mmatousek@ccctechcenter.org', 'atamagni@ccctechcenter.org', 'ablack@ccctechcenter.org', 'bstout@ccctechcenter.org', 'bschroeder@ccctechcenter.org', 'bracheter@ccctechcenter.org', 'jwhetstone@ccctechcenter.org', 'kcrosby@ccctechcenter.org', 'mschott@ccctechcenter.org', 'pweatherby@ccctechcenter.org', 'ateo@ccctechcenter.org']\n"
          ]
        }
      ]
    },
    {
      "cell_type": "code",
      "metadata": {
        "colab": {
          "base_uri": "https://localhost:8080/"
        },
        "id": "ExKMMMWqraCy",
        "outputId": "dd267168-e8fd-4a63-e384-45174a3e043f"
      },
      "source": [
        "lst_phone_number = get_phone_number(url_list)\n",
        "print(lst_phone_number)"
      ],
      "execution_count": null,
      "outputs": [
        {
          "output_type": "stream",
          "name": "stdout",
          "text": [
            "['https://www.ccctechcenter.org/about/technology-center-contacts/4-tim-calhoon', 'https://www.ccctechcenter.org/about/technology-center-contacts/5-david-albrecht', 'https://www.ccctechcenter.org/about/technology-center-contacts/6-angela-baucom', 'https://www.ccctechcenter.org/about/technology-center-contacts/7-michael-caruso', 'https://www.ccctechcenter.org/about/technology-center-contacts/8-sandoval-chagoya', 'https://www.ccctechcenter.org/about/technology-center-contacts/9-mark-cohen', 'https://www.ccctechcenter.org/about/technology-center-contacts/10-dr-jennifer-coleman', 'https://www.ccctechcenter.org/about/technology-center-contacts/11-emmett-culley', 'https://www.ccctechcenter.org/about/technology-center-contacts/12-cindy-mccartney', 'https://www.ccctechcenter.org/about/technology-center-contacts/13-rebecca-miller']\n",
            "['530.879.4091', '530.566.2367', '530.636.2518', '707.318.1881', '530.566.4545', '530.879.4179', '530.879.4165', '530.879.4090', '530.879.4082', '530.321.8091']\n"
          ]
        }
      ]
    },
    {
      "cell_type": "code",
      "metadata": {
        "id": "78RmVfQUlggP"
      },
      "source": [
        "def make_file(phone,email):\n",
        "  f = open('my_data.txt', \"w\") #a: append; w: write   \n",
        "  list_phone = ' '.join([str(elem) for elem in phone])\n",
        "  list_email = ' '.join([str(elem) for elem in email])\n",
        "  f.write(list_phone+\"\\n\\n\"+list_email)\n",
        "  print(\"file created\")\n",
        "  f.close()"
      ],
      "execution_count": null,
      "outputs": []
    },
    {
      "cell_type": "code",
      "metadata": {
        "colab": {
          "base_uri": "https://localhost:8080/"
        },
        "id": "AkBFhlTfvPMX",
        "outputId": "6dd5ec1e-4a88-4131-ebe2-1172c070b80d"
      },
      "source": [
        "make_file(lst_phone_number,lst_email)"
      ],
      "execution_count": null,
      "outputs": [
        {
          "output_type": "stream",
          "name": "stdout",
          "text": [
            "file created\n"
          ]
        }
      ]
    },
    {
      "cell_type": "markdown",
      "metadata": {
        "id": "aT7xV90lzeXc"
      },
      "source": [
        "## **Bai 2**"
      ]
    },
    {
      "cell_type": "code",
      "metadata": {
        "id": "fdnGmhg_zn9W"
      },
      "source": [
        "from bs4 import BeautifulSoup\n",
        "from pprint import pprint\n",
        "import requests\n",
        "import nltk,re\n",
        "import threading"
      ],
      "execution_count": null,
      "outputs": []
    },
    {
      "cell_type": "code",
      "metadata": {
        "id": "drMD6p0dzvah"
      },
      "source": [
        "url1 = 'https://news.skydoor.net/place/H%C3%A0_N%E1%BB%99i'\n",
        "url2 = 'https://news.skydoor.net/place/%C4%90%C3%A0_N%E1%BA%B5ng'"
      ],
      "execution_count": null,
      "outputs": []
    },
    {
      "cell_type": "code",
      "metadata": {
        "id": "c3OAQmDCQpiL"
      },
      "source": [
        "def get_info(url):\n",
        "  response = requests.get(url)\n",
        "  soup = BeautifulSoup(response.content,'html.parser')\n",
        "  post_detail = soup.find('div',id=\"news\")\n",
        "  return post_detail"
      ],
      "execution_count": null,
      "outputs": []
    },
    {
      "cell_type": "code",
      "metadata": {
        "id": "WB4ORZG6LQfO"
      },
      "source": [
        "def make_file_from_array(content):\n",
        "  with open('listfile.txt', 'w') as filehandle:\n",
        "    for listitem in content:\n",
        "        filehandle.write('%s\\n' % listitem)\n",
        "  print(\"file created\")\n",
        "def read_line_url(filename):\n",
        "  testsite_array = []\n",
        "  with open(filename) as my_file:\n",
        "    for line in my_file:\n",
        "      testsite_array.append(line)\n",
        "  return testsite_array"
      ],
      "execution_count": null,
      "outputs": []
    },
    {
      "cell_type": "code",
      "metadata": {
        "id": "w93rjMIVG88-"
      },
      "source": [
        ""
      ],
      "execution_count": null,
      "outputs": []
    },
    {
      "cell_type": "code",
      "metadata": {
        "id": "L2kmzGRxRoj-",
        "colab": {
          "base_uri": "https://localhost:8080/"
        },
        "outputId": "622ca5eb-dd59-45ce-8844-ddbd79f27816"
      },
      "source": [
        "def get_100_link(url):\n",
        "  list_url=[]\n",
        "  count=0\n",
        "  for i in range(0,5):\n",
        "    main_url = url+\"?page=\"+str(i)\n",
        "    links = get_info(main_url)\n",
        "    # print(links)\n",
        "    for link in links.find_all('a',class_='src_link', href=True):\n",
        "      print(link['href'])\n",
        "      # match = re.findall(r'<a href=\"(.*?)\".*>(.*)</a>', link)\n",
        "      list_url.append(link['href'])\n",
        "      # count=count+1\n",
        "    # print(count)\n",
        "  return list_url    \n",
        "list_url = get_100_link(url)\n"
      ],
      "execution_count": null,
      "outputs": [
        {
          "output_type": "stream",
          "name": "stdout",
          "text": [
            "http://www.vietnamplus.vn/da-nang-12-xa-phuong-khong-co-ca-mac-cong-dong-14-ngay-lien-tiep/738028.vnp\n",
            "https://congthuong.vn/hon-40-tan-gao-ho-tro-ba-con-ngheo-da-nang-163454.html\n",
            "https://vov.vn/xa-hoi/tin-24h/1256-xa-phuong-o-da-nang-qua-14-ngay-lien-tiep-khong-co-ca-cong-dong-887510.vov\n",
            "https://tienphong.vn/da-nang-se-khai-giang-nam-hoc-moi-nhu-the-nao-post1372019.tpo\n",
            "https://vov.vn/xa-hoi/tin-24h/vung-3-hai-quan-tang-cuong-luc-luong-cung-da-nang-chong-dich-887479.vov\n",
            "https://vov.vn/xa-hoi/tin-24h/quang-nam-bac-thong-tin-dung-tiep-nhan-hang-hoa-tai-chot-kiem-soat-giap-da-nang-887486.vov\n",
            "http://nld.com.vn/ket-qua-xo-so/ket-qua-xo-so-hom-nay-1-9-da-nang-khanh-hoa-bac-ninh-20210901185832439.htm\n",
            "https://dangcongsan.vn/y-te/da-nang-so-ca-mac-moi-covid-19-giam-98-ca-so-voi-hom-qua-589818.html\n",
            "https://vnexpress.net/bi-thu-da-nang-ve-lau-dai-phai-tinh-song-chung-voi-dich-4349793.html\n",
            "https://vietnamnet.vn/vn/thoi-su/bac-thong-tin-dung-tiep-nhan-gui-hang-hoa-giua-quang-nam-va-da-nang-771186.html\n",
            "https://plo.vn/kinh-te/tiem-tap-hoa-o-da-nang-mo-cua-tro-lai-nhung-khong-co-hang-de-ban-1012483.html\n",
            "https://thanhnien.vn/thoi-su/da-nang-dac-xa-dip-quoc-khanh-29-tang-qua-nu-pham-nhan-hoan-canh-kho-khan-1443262.html\n",
            "https://tuoitre.vn/cau-rong-da-nang-xuat-hien-trong-phim-hanh-dong-my-co-da-nu-goc-viet-maggie-q-20210901085301081.htm\n",
            "http://nld.com.vn/suc-khoe/da-nang-ghi-nhan-55-ca-covid-19-co-3-ca-cong-dong-20210901171316393.htm\n",
            "https://vov.vn/suc-khoe/cu-ba-101-tuoi-khoi-covid-19-da-xuat-vien-ve-nha-887428.vov\n",
            "https://thanhnien.vn/thoi-su/da-nang-phong-toa-ra-duong-khong-dung-con-xuc-pham-luc-luong-chot-kiem-soat-1443246.html\n",
            "https://tuoitre.vn/tu-3-9-da-nang-dung-vong-tay-thong-minh-quan-ly-f1-o-nha-20210901151352598.htm\n",
            "https://vtc.vn/ngay-thu-16-phong-toa-thanh-pho-da-nang-co-55-f0-moi-3-ca-cong-dong-ar634269.html\n",
            "https://dangcongsan.vn/xay-dung-dang/da-nang-bau-bo-sung-02-pho-chu-tich-ubnd-thanh-pho-589741.html\n",
            "https://www.qdnd.vn/tren-tuyen-dau-chong-dich/cac-van-de/chien-si-sao-vuong-lam-ba-do-670096\n",
            "https://vnews.gov.vn/video/da-nang-bau-hai-pho-chu-tich-ubnd-thanh-pho-9397.htm\n",
            "https://thanhnien.vn/doi-song/da-nang-chi-gan-5-ti-dong-giup-huong-dan-vien-du-lich-bi-anh-huong-covid-19-1443223.html\n",
            "https://plo.vn/xa-hoi/da-nang-se-kiem-tra-dot-xuat-f1-tai-nha-bang-anh-khuon-mat-toa-do-dien-thoai-1012400.html\n",
            "https://thanhnien.vn/thoi-su/thieu-nien-14-tuoi-vo-co-dam-2-chi-em-do-buc-boi-trong-nguoi-1443104.html\n",
            "https://dangcongsan.vn/xa-hoi/dang-vien-cung-dan-chung-suc-dap-dich-589727.html\n",
            "https://thanhnien.vn/thoi-su/da-nang-san-sang-280-vong-deo-tay-thong-minh-giam-sat-f1-1443107.html\n",
            "https://kienthuc.net.vn/xa-hoi/2-tan-pho-chu-tich-ubnd-tp-da-nang-vua-duoc-bo-nhiem-la-ai-1585816.html\n",
            "https://tienphong.vn/da-nang-da-co-buoc-di-hop-ly-quyet-doan-va-buoc-dau-kiem-soat-duoc-dich-benh-post1371917.tpo\n",
            "http://nld.com.vn/suc-khoe/da-nang-tiep-nhan-5000-lo-thuoc-remdesivir-dieu-tri-covid-19-20210901111624186.htm\n",
            "https://vietnamnet.vn/vn/suc-khoe/cu-ba-101-tuoi-o-da-nang-khoi-covid-19-771018.html\n",
            "https://vnexpress.net/da-nang-them-2-pho-chu-tich-thanh-pho-4349569.html\n",
            " https://cafef.vn/da-nang-bau-2-pho-chu-tich-ubnd-thanh-pho-20210901110012963.chn \n",
            "https://thanhnien.vn/thoi-su/nhan-su-da-nang-bau-bo-sung-2-pho-chu-tich-ubnd-thanh-pho-1442931.html\n",
            "http://nld.com.vn/thoi-su/ubnd-tp-da-nang-co-2-tan-pho-chu-tich-20210901101232522.htm\n",
            "http://www.vietnamplus.vn/bau-bo-sung-hai-pho-chu-tich-uy-ban-nhan-dan-thanh-pho-da-nang/737865.vnp\n",
            "http://kinhtedothi.vn/ong-tran-phuoc-son-ba-ngo-thi-kim-yen-duoc-bau-lam-pho-chu-tich-ubnd-tp-da-nang-433236.html\n",
            "https://zingnews.vn/da-nang-bau-bo-sung-2-pho-chu-tich-ubnd-thanh-pho-post1257775.html\n",
            "https://tienphong.vn/cu-ba-101-tuoi-o-da-nang-chien-thang-covid-19-post1371890.tpo\n",
            "https://baophapluat.vn/da-nang-da-bau-2-tan-pho-chu-tich-ubnd-thanh-pho-post410645.html\n",
            "https://www.baogiaothong.vn/hai-pho-chu-tich-thanh-pho-da-nang-vua-duoc-bau-sang-nay-la-ai-d523093.html\n",
            "https://tuoitre.vn/da-nang-co-them-2-pho-chu-tich-ubnd-thanh-pho-2021090109424348.htm\n",
            "http://cadn.com.vn/news/102_249096_ong-tran-phuoc-son-va-ba-ngo-thi-kim-yen-duoc-bau-.aspx\n",
            "https://giaoducthoidai.vn/thoi-su/da-nang-co-2-tan-pho-chu-tich-ubnd-thanh-pho-XFP8cxV7g.html\n",
            "https://tienphong.vn/da-nang-co-them-2-pho-chu-tich-thanh-pho-post1371883.tpo\n",
            "https://vov.vn/chinh-tri/to-chuc-nhan-su/da-nang-bau-2-pho-chu-tich-ubnd-thanh-pho-887300.vov\n",
            "http://baochinhphu.vn/doi-song/da-nang-tang-cuong-cac-diem-ban-hang-luu-dong-va-cho-tam/444813.vgp\n",
            "http://nld.com.vn/mien-trung-tay-nguyen/da-nang-nhieu-doanh-nghiep-gap-kho-khan-20210831211308305.htm\n",
            "https://vietnamnet.vn/vn/thoi-su/da-nang-bau-2-pho-chu-tich-thanh-pho-770971.html\n",
            "https://plo.vn/thoi-su/da-nang-bau-2-pho-chu-tich-ubnd-tp-1012329.html\n",
            "https://thanhnien.vn/tai-chinh-kinh-doanh/hang-rong-tieu-thuong-da-nang-duoc-mien-6-thang-tien-thue-mat-bang-cho-1443003.html\n",
            "https://plo.vn/thoi-su/bi-thu-da-nang-chung-ta-khong-the-dong-tp-mai-duoc-1012321.html\n",
            "https://thanhnien.vn/thoi-su/da-nang-dieu-tra-vu-cho-hang-khong-bang-lai-lam-gia-giay-di-duong-de-vuot-chot-1442959.html\n",
            "http://cadn.com.vn/news/105_249090_tang-qua-dong-vien-cac-diem-cung-ung-hang-hoa-cua-.aspx\n",
            " https://cafef.vn/vi-sao-da-nang-uu-tien-tiem-vac-xin-cho-vung-xanh-20210901075055288.chn \n",
            "https://bnews.vn/lich-cat-dien-da-nang-ngay-mai-2-9-cap-nhat-moi-nhat/210331.html\n",
            "https://vtc.vn/da-nang-khong-the-dong-cung-mai-phai-co-bien-phap-phu-hop-ar634132.html\n",
            "https://tienphong.vn/vi-sao-da-nang-uu-tien-tiem-vac-xin-cho-vung-xanh-post1371717.tpo\n",
            "https://vietnamnet.vn/vn/doi-song/gia-dinh/gia-dinh-da-nang-song-khoe-voi-vuon-san-thuong-150m2-ngay-gian-cach-769962.html\n",
            "https://vnexpress.net/covid-24h-tp-hcm-ca-tu-vong-tang-da-nang-phat-hien-o-dich-moi-4349299.html\n",
            "https://vov.vn/xa-hoi/bi-thu-da-nang-de-nghi-giam-sat-chat-che-viec-tu-tap-lien-hoan-trong-dip-nghi-le-887246.vov\n",
            "https://thanhnien.vn/thoi-su/da-nang-phong-toa-khong-the-dong-cung-thanh-pho-mai-phai-co-giai-phap-phu-hop-1442884.html\n",
            "https://thanhnien.vn/thoi-su/cho-qua-giang-co-gai-bi-ban-moi-quen-bo-roi-khi-911-da-nang-chan-bat-1442843.html\n",
            "https://vtc.vn/16-nguoi-hre-di-bo-tu-da-nang-ve-quang-ngai-duoc-ho-tro-xe-mien-phi-ar634120.html\n",
            "http://kinhtedothi.vn/da-nang-so-ca-mac-covid-19-tang-tro-lai-tiep-nhan-hon-108000-lieu-vaccine-433184.html\n",
            "https://tienphong.vn/hon-4-000-suat-com-cho-tuyen-dau-chong-dich-post1371691.tpo\n",
            "https://thanhnien.vn/thoi-su/da-nang-phong-toa-duoc-phep-giao-gas-nhung-len-them-nhieu-mat-hang-khac-bi-phat-1442826.html\n",
            "https://thanhnien.vn/thoi-su/16-nguoi-hre-bi-bo-giua-rung-duoc-cong-an-tpda-nang-dua-ve-que-1442760.html\n",
            "https://tienphong.vn/da-nang-them-hang-loat-ca-mac-covid-19-trong-hem-chuan-bi-phuong-an-gian-dan-post1371659.tpo\n",
            "https://zingnews.vn/mot-chung-cu-o-da-nang-co-17-nguoi-mac-covid-19-post1257510.html\n",
            "http://cadn.com.vn/news/99_249078_khan-truong-cho-phep-cac-nha-may-tang-cong-nhan.aspx\n",
            "https://thanhnien.vn/thoi-su/ngay-dau-tuan-tra-tren-khong-bang-flycam-nguoi-dan-trong-hem-nho-khong-con-ra-ngoai-1442768.html\n",
            "https://viettimes.vn/ai-duoc-gioi-thieu-de-hdnd-tp-da-nang-bau-pho-chu-tich-ubnd-tp-vao-ngay-mai-post149929.html\n",
            "http://cadn.com.vn/news/105_249077_4-ngay-luc-luong-cong-an-cung-ung-gan-18-nghin-don-hang-cho-nguoi-dan-tp-da-nang.aspx\n",
            "https://vov.vn/xa-hoi/tin-24h/so-ca-mac-tang-vot-da-nang-can-moc-4000-ca-mac-covid-19-887176.vov\n",
            "http://nld.com.vn/suc-khoe/da-nang-them-123-ca-covid-19-co-12-ca-cong-dong-2021083117014495.htm\n",
            "https://vtc.vn/them-123-nguoi-mac-covid-19-moi-da-nang-vuot-moc-4-000-ca-ar634092.html\n",
            "https://www.baogiaothong.vn/flycam-tuan-tra-tren-khong-giup-da-nang-giam-sat-cac-hem-the-nao-d522977.html\n",
            "https://tuoitre.vn/da-nang-bat-dau-xu-phat-tu-hinh-anh-flycam-20210831162238173.htm\n",
            "https://plo.vn/thoi-su/da-nang-tap-trung-ngan-chan-dich-tai-cac-khu-chung-cu-1012214.html\n",
            "https://vietnamnet.vn/vn/suc-khoe/da-nang-ghi-nhan-17-ca-mac-covid-19-cung-mot-chung-cu-770818.html\n",
            "https://vnexpress.net/da-nang-phat-hien-o-dich-moi-o-chung-cu-87-ho-dan-4349173.html\n",
            "http://www.vietnamplus.vn/da-nang-muc-do-lay-nhiem-covid19-tai-khu-chung-cu-rat-cao/737684.vnp\n",
            "https://tienphong.vn/dieu-kien-de-doanh-nghiep-duoc-giam-dong-bao-hiem-tai-nan-post1371557.tpo\n",
            "https://vietnamnet.vn/vn/suc-khoe/da-nang-tiem-vac-xin-cho-nguoi-dan-tai-cua-hang-an-uong-tiem-cat-toc-770789.html\n",
            "https://thanhnien.vn/thoi-su/da-nang-phong-toa-hoan-tat-2-goi-ho-tro-100-ti-sap-mo-goi-80-ti-1442652.html\n",
            "https://vietnamnet.vn/vn/thoi-su/da-nang-dung-flycam-tuan-tra-khap-cac-ngo-hem-770781.html\n",
            "https://vnews.gov.vn/video/ngay-dau-da-nang-cho-shipper-hoat-dong-9233.htm\n",
            "https://vov.vn/phap-luat/phat-30-thang-tu-voi-lai-xe-chong-doi-tai-chot-kiem-dich-o-da-nang-887120.vov\n",
            "http://nguoidothi.net.vn/da-nang-tang-dien-tich-khu-cong-nghe-cao-len-1-844-ha-30899.html\n",
            "https://vnews.gov.vn/video/cong-an-da-nang-ban-hang-binh-on-gia-9231.htm\n",
            "https://suckhoedoisong.vn//tra-gia-30-thang-tu-vi-tong-xe-vao-csgt-de-thong-chot-169210831133800037.htm\n",
            "https://thanhnien.vn/thoi-su/da-nang-tong-xe-vao-csgt-de-vuot-chot-lanh-2-nam-6-thang-tu-1442636.html\n",
            "https://vov.vn/xa-hoi/tin-24h/da-nang-se-test-nhanh-tat-ca-cac-lai-xe-vao-trung-tam-thanh-pho-887076.vov\n",
            "https://baotintuc.vn/phap-luat/phat-30-thang-tu-vi-chong-nguoi-thi-hanh-cong-vu-vi-pham-quy-dinh-phong-chong-dich-20210831134044272.htm\n",
            "https://zingnews.vn/tai-xe-tong-csgt-tai-chot-kiem-dich-linh-30-thang-tu-post1257247.html\n",
            "https://tienphong.vn/mot-tang-trong-chung-cu-o-da-nang-co-17-ca-nhiem-covid-19-post1371525.tpo\n",
            "https://vtc.vn/da-nang-1-khu-chung-cu-phat-hien-17-ca-mac-covid-19-ar634040.html\n",
            "https://vtc.vn/da-nang-thu-nghiem-bay-15-flycam-kiem-soat-nguoi-dan-trong-cac-kiet-hem-ar634032.html\n",
            "http://nld.com.vn/phap-luat/doi-tuong-vuot-chot-kiem-dich-chong-nguoi-thi-hanh-cong-vu-lanh-an-tu-20210831113835115.htm\n",
            "https://vnexpress.net/doanh-nhan-tre-tim-ban-gai-o-da-nang-4348656.html\n"
          ]
        }
      ]
    },
    {
      "cell_type": "code",
      "metadata": {
        "id": "SpzhCQbBSHe1",
        "colab": {
          "base_uri": "https://localhost:8080/"
        },
        "outputId": "72eb0b85-8d55-441d-f4b4-8233f01708cb"
      },
      "source": [
        "def get_100_link(url1,url2):\n",
        "  list_url=[]\n",
        "  count=0\n",
        "  page = 0\n",
        "  while(count<=50):\n",
        "    # print(f'do dai:{len(list_url)}')\n",
        "    main_url = url1+\"?page=\"+str(page)\n",
        "    links = get_info(main_url)\n",
        "    links2 = links.find_all('a',class_='src_link', href=True)\n",
        "    for link in links2:\n",
        "      if(\"vnexpress\" in str(link)):\n",
        "        count=count+1\n",
        "        print(count)\n",
        "        print(link['href'])\n",
        "        list_url.append(link['href'])\n",
        "    page = page +1\n",
        "\n",
        "  print(f'page: {page}')\n",
        "  page = 0\n",
        "  while(count<=100):\n",
        "    # print(f'do dai:{len(list_url)}')\n",
        "    main_url = url2+\"?page=\"+str(page)\n",
        "    links = get_info(main_url)\n",
        "    links2 = links.find_all('a',class_='src_link', href=True)\n",
        "    for link in links2:\n",
        "      if(\"vnexpress\" in str(link)):\n",
        "        count=count+1\n",
        "        if(count == 100): \n",
        "          break\n",
        "        print(count)\n",
        "        print(link['href'])\n",
        "        list_url.append(link['href'])\n",
        "    page = page +1\n",
        "  print(f'page: {page}')\n",
        "  return list_url    \n",
        "list_url = get_100_link(url1,url2)\n",
        "# print(list_url)\n",
        "make_file_from_array(list_url)"
      ],
      "execution_count": null,
      "outputs": [
        {
          "output_type": "stream",
          "name": "stdout",
          "text": [
            "1\n",
            "https://vnexpress.net/di-doi-nguoi-dan-khoi-vung-dich-lon-nhat-ha-noi-4349945.html\n",
            "2\n",
            "https://vnexpress.net/tre-lop-1-o-ha-noi-hoc-online-3-tiet-moi-ngay-4349932.html\n",
            "3\n",
            "https://vnexpress.net/ha-noi-tiep-tuc-thuc-hien-nghiem-gian-cach-xa-hoi-4349667.html\n",
            "4\n",
            "https://vnexpress.net/ha-noi-tiep-tuc-gian-cach-xa-hoi-4349667.html\n",
            "5\n",
            "https://vnexpress.net/diem-tin-ha-noi-tiep-tuc-gian-cach-tp-hcm-sang-giai-doan-2-chong-dich-4349900.html\n",
            "6\n",
            "https://vnexpress.net/diem-tin-ha-noi-co-the-tiep-tuc-gian-cach-tp-hcm-sang-giai-doan-2-chong-dich-4349900.html\n",
            "7\n",
            "https://vnexpress.net/ha-noi-di-doi-1-200-nguoi-dan-trong-o-dich-lon-nhat-4349838.html\n",
            "8\n",
            "https://vnexpress.net/ha-noi-di-doi-dan-trong-o-dich-lon-nhat-4349838.html\n",
            "9\n",
            "https://vnexpress.net/diem-trung-tuyen-vao-lop-6-truong-ha-noi-amsterdam-4349855.html\n",
            "10\n",
            "https://vnexpress.net/sinh-vien-hoc-quan-su-online-4349560.html\n",
            "11\n",
            "https://vnexpress.net/pho-giam-doc-cdc-ha-noi-co-the-gian-cach-tiep-sau-6-9-4349493.html\n",
            "12\n",
            "https://vnexpress.net/pho-giam-doc-cdc-ha-noi-co-the-can-gian-cach-tiep-sau-6-9-4349493.html\n",
            "13\n",
            "https://vnexpress.net/sun-group-tai-tro-100-ty-dong-cho-benh-vien-dieu-tri-covid-19-4349468.html\n",
            "14\n",
            "https://vnexpress.net/evnhanoi-dam-bao-nguon-dien-cho-cong-tac-chong-dich-4338475.html\n",
            "15\n",
            "https://vnexpress.net/sau-tiem-vaccine-covid-19-co-duoc-uong-thuoc-tri-gout-4348515.html\n",
            "16\n",
            "https://vnexpress.net/thu-tuong-kiem-tra-diem-nong-covid-19-tai-ha-noi-4349288.html\n",
            "17\n",
            "https://vnexpress.net/thu-tuong-kiem-tra-chong-dich-o-diem-nong-covid-19-tai-ha-noi-4349288.html\n",
            "18\n",
            "https://vnexpress.net/thu-tuong-nguoi-dan-ha-noi-ra-duong-con-kha-dong-4349288.html\n",
            "19\n",
            "https://vnexpress.net/mong-ban-doi-hon-tuoi-hai-huoc-4349233.html\n",
            "20\n",
            "https://vnexpress.net/ha-noi-yen-binh-trong-thoi-khac-chuyen-mua-4348589.html\n",
            "21\n",
            "https://vnexpress.net/ha-noi-buon-trong-thoi-khac-chuyen-mua-4348589.html\n",
            "22\n",
            "https://vnexpress.net/em-co-thich-chang-trai-don-gian-chan-that-4348978.html\n",
            "23\n",
            "https://vnexpress.net/thu-nhap-bap-benh-khi-bo-pho-ve-que-4349024.html\n",
            "24\n",
            "https://vnexpress.net/tpbank-chi-vien-may-tho-cao-cap-cho-loat-benh-vien-tuyen-dau-chong-dich-4348668.html\n",
            "25\n",
            "https://vnexpress.net/thao-chay-sau-ba-thang-bo-pho-ve-que-4348424.html\n",
            "26\n",
            "https://vnexpress.net/ba-noi-tro-so-huu-1-5-tan-noi-gang-thia-dia-4346857.html\n",
            "27\n",
            "https://vnexpress.net/gan-mot-phan-ba-doanh-nghiep-o-cum-cong-nghiep-con-san-xuat-4348776.html\n",
            "28\n",
            "https://vnexpress.net/o-dich-an-nap-trong-nhung-ngo-nho-ha-noi-4348362.html\n",
            "29\n",
            "https://vnexpress.net/nu-nhan-vien-ngan-hang-chuyen-nghe-cham-soc-hoc-vien-truc-tuyen-4348610.html\n",
            "30\n",
            "https://vnexpress.net/benh-vien-covid-500-giuong-o-ha-noi-sap-hoat-dong-4348652.html\n",
            "31\n",
            "https://vnexpress.net/benh-vien-500-giuong-o-ha-noi-phuc-vu-benh-nhan-covid-19-nang-4348694.html\n",
            "32\n",
            "https://vnexpress.net/benh-vien-da-chien-500-giuong-cho-benh-nhan-covid-19-nang-4348694.html\n",
            "33\n",
            "https://vnexpress.net/benh-vien-da-chien-500-giuong-phuc-vu-benh-nhan-covid-19-nang-4348694.html\n",
            "34\n",
            "https://vnexpress.net/co-du-nha-xe-sau-tam-nam-ve-tinh-lam-viec-4348532.html\n",
            "35\n",
            "https://vnexpress.net/youtuber-jake-paul-thang-tran-quyen-anh-thu-tu-lien-tiep-4348555.html\n",
            "36\n",
            "https://vnexpress.net/quang-liem-lao-doc-o-sieu-giai-aimchess-us-4348507.html\n",
            "37\n",
            "https://vnexpress.net/nem-ran-ha-noi-chuan-vi-thom-ngon-4348382.html\n",
            "38\n",
            "https://vnexpress.net/chang-trai-nhieu-khuyet-diem-tim-ban-gai-chan-thanh-4348053.html\n",
            "39\n",
            "https://video.vnexpress.net/tin-tuc/thoi-su/benh-vien-da-chien-xay-moi-dau-tien-o-ha-noi-truoc-ngay-hoat-dong-4348211.html\n",
            "40\n",
            "https://vnexpress.net/bi-thu-ha-noi-kien-tri-gian-cach-xa-hoi-4348276.html\n",
            "41\n",
            "https://vnexpress.net/ha-noi-them-23-nguoi-nghi-covid-19-4348298.html\n",
            "42\n",
            "https://vnexpress.net/cong-an-ha-noi-lap-them-6-to-co-dong-manh-4348226.html\n",
            "43\n",
            "https://vnexpress.net/cong-an-ha-noi-lap-them-6-to-kiem-tra-co-dong-manh-4348226.html\n",
            "44\n",
            "https://vnexpress.net/nu-sinh-ha-noi-gianh-giai-ba-quoc-te-viet-thu-upu-4347984.html\n",
            "45\n",
            "https://vnexpress.net/vi-sao-mang-thai-can-tiem-vaccine-covid-19-4345191.html\n",
            "46\n",
            "https://vnexpress.net/them-33-nguoi-ha-noi-nghi-covid-19-4347953.html\n",
            "47\n",
            "https://vnexpress.net/covid-24h-tp-hcm-vuot-200-000-ca-ha-noi-len-2-kich-ban-xet-nghiem-4347882.html\n",
            "48\n",
            "https://vnexpress.net/liverpool-chelsea-lukaku-da-chinh-4347756.html\n",
            "49\n",
            "https://vnexpress.net/liverpool-chelsea-4347756.html\n",
            "50\n",
            "https://vnexpress.net/diem-san-dai-hoc-y-ha-noi-tu-19-den-23-4347864.html\n",
            "51\n",
            "https://vnexpress.net/hai-kich-ban-xet-nghiem-covid-19-tai-ha-noi-sau-6-9-4347705.html\n",
            "page: 60\n",
            "52\n",
            "https://vnexpress.net/bi-thu-da-nang-ve-lau-dai-phai-tinh-song-chung-voi-dich-4349793.html\n",
            "53\n",
            "https://vnexpress.net/da-nang-them-2-pho-chu-tich-thanh-pho-4349569.html\n",
            "54\n",
            "https://vnexpress.net/covid-24h-tp-hcm-ca-tu-vong-tang-da-nang-phat-hien-o-dich-moi-4349299.html\n",
            "55\n",
            "https://vnexpress.net/da-nang-phat-hien-o-dich-moi-o-chung-cu-87-ho-dan-4349173.html\n",
            "56\n",
            "https://vnexpress.net/doanh-nhan-tre-tim-ban-gai-o-da-nang-4348656.html\n",
            "57\n",
            "https://vnexpress.net/chang-bo-doi-hai-quan-tim-ban-doi-o-da-nang-4348698.html\n",
            "58\n",
            "https://vnexpress.net/phat-dat-lien-tuc-thau-tom-dat-vang-4347706.html\n",
            "59\n",
            "https://vnexpress.net/gan-100-xe-taxi-tham-gia-van-chuyen-f0-4346587.html\n",
            "60\n",
            "https://vnexpress.net/quang-nam-khoi-dong-du-an-dai-hoc-da-nang-4347313.html\n",
            "61\n",
            "https://vnexpress.net/them-nhieu-truong-y-duoc-cong-bo-diem-san-4347250.html\n",
            "62\n",
            "https://vnexpress.net/quan-doi-cong-an-ho-tro-cung-ung-thuc-pham-cho-da-nang-4346823.html\n",
            "63\n",
            "https://vnexpress.net/covid-24h-ca-nhiem-cong-dong-cao-tai-nhieu-tinh-thanh-4346385.html\n",
            "64\n",
            "https://vnexpress.net/da-nang-gap-kho-trong-cung-ung-thuc-pham-4346047.html\n",
            "65\n",
            "https://vnexpress.net/nguoi-da-nang-se-o-yen-trong-nha-them-10-ngay-4345726.html\n",
            "66\n",
            "https://vnexpress.net/ba-quan-o-da-nang-vao-dien-nguy-co-rat-cao-ve-covid-19-4344999.html\n",
            "67\n",
            "https://vnexpress.net/to-dan-pho-ba-trong-mot-ngay-da-nang-cach-ly-4344613.html\n",
            "68\n",
            "https://vnexpress.net/chuoi-lay-nhiem-cho-dau-moi-khien-da-nang-keo-dai-cach-ly-4344393.html\n",
            "69\n",
            "https://vnexpress.net/so-ca-covid-19-cong-dong-o-da-nang-ba-ngay-khong-giam-4344290.html\n",
            "70\n",
            "https://vnexpress.net/nguoi-dan-da-nang-o-yen-trong-nha-them-3-ngay-4344092.html\n",
            "71\n",
            "https://vnexpress.net/nhung-phu-nu-sap-bay-vay-tien-qua-app-4344101.html\n",
            "72\n",
            "https://vnexpress.net/ban-an-tuong-voi-mon-an-da-nang-nao-nhat-4343721.html\n",
            "73\n",
            "https://vnexpress.net/da-nang-xem-xet-cho-shipper-hoat-dong-tro-lai-4343841.html\n",
            "74\n",
            "https://vnexpress.net/ga-trong-nuoi-con-tim-ga-mai-o-da-nang-4343473.html\n",
            "75\n",
            "https://vnexpress.net/nhieu-nguoi-bi-xu-phat-vi-ra-khoi-nha-o-da-nang-4342421.html\n",
            "76\n",
            "https://vnexpress.net/da-nang-phat-hien-29-ca-duong-tinh-qua-xet-nghiem-dien-rong-4342703.html\n",
            "77\n",
            "https://vnexpress.net/cac-goi-an-sinh-xa-hoi-dang-phu-den-dau-4339802.html\n",
            "78\n",
            "https://vnexpress.net/cac-goi-an-sinh-xa-hoi-dang-phu-duoc-den-dau-4339802.html\n",
            "79\n",
            "https://vnexpress.net/da-nang-cap-phat-rau-xanh-cho-nguoi-dan-trong-dem-4342262.html\n",
            "80\n",
            "https://vnexpress.net/da-nang-cap-phat-rau-xanh-khoai-tay-cho-nguoi-dan-4342262.html\n",
            "81\n",
            "https://vnexpress.net/120-ca-covid-19-o-da-nang-trong-mot-ngay-4342138.html\n",
            "82\n",
            "https://vnexpress.net/da-nang-ghi-nhan-96-ca-covid-19-trong-24-gio-4341578.html\n",
            "83\n",
            "https://vnexpress.net/cao-toc-da-nang-quang-ngai-dung-thu-phi-4341506.html\n",
            "84\n",
            "https://vnexpress.net/da-nang-ngay-dau-nguoi-dan-khong-ra-khoi-nha-4341326.html\n",
            "85\n",
            "https://vnexpress.net/tim-nguoi-giu-mai-trai-tim-em-4341206.html\n",
            "86\n",
            "https://vnexpress.net/da-nang-lap-ba-lop-kiem-soat-nguoi-dan-khong-ra-khoi-nha-4341130.html\n",
            "87\n",
            "https://vnexpress.net/30-000-suat-nhu-yeu-pham-cho-nguoi-ngheo-da-nang-4341040.html\n",
            "88\n",
            "https://vnexpress.net/nhan-hang-ich-nhi-tang-qua-cho-tre-cach-ly-4340448.html\n",
            "89\n",
            "https://vnexpress.net/vaccine-covid-19-bao-ve-co-the-bao-lau-4340463.html\n",
            "90\n",
            "https://vnexpress.net/covid-24h-viet-nam-ghi-nhan-ngay-nhieu-ca-nhiem-nhat-da-nang-dong-cua-mot-tuan-4340745.html\n",
            "91\n",
            "https://vnexpress.net/covid-24h-vn-ghi-nhan-ngay-nhieu-ca-nhiem-nhat-da-nang-dong-cua-mot-tuan-4340745.html\n",
            "92\n",
            "https://vnexpress.net/ai-duoc-ra-duong-khi-da-nang-dung-hoat-dong-7-ngay-4340703.html\n",
            "93\n",
            "https://vnexpress.net/sieu-thi-tru-thuc-pham-du-cho-nguoi-da-nang-trong-20-30-ngay-4340610.html\n",
            "94\n",
            "https://vnexpress.net/duong-pho-da-nang-dong-nguoi-truoc-ngay-o-yen-trong-nha-4340514.html\n",
            "95\n",
            "https://vnexpress.net/nguoi-da-nang-do-ra-duong-truoc-ngay-o-yen-trong-nha-4340514.html\n",
            "96\n",
            "https://vnexpress.net/nguoi-dan-da-nang-nha-trang-khong-ra-khoi-nha-trong-7-ngay-4340435.html\n",
            "97\n",
            "https://vnexpress.net/da-nang-dung-tat-ca-hoat-dong-trong-7-ngay-4340435.html\n",
            "98\n",
            "https://vnexpress.net/nguoi-da-nang-keo-nhau-di-cho-4340097.html\n",
            "99\n",
            "https://vnexpress.net/covid-24h-tp-hcm-quyet-giu-vung-xanh-da-nang-tinh-siet-gian-cach-4339753.html\n",
            "101\n",
            "https://vnexpress.net/da-nang-len-ke-hoach-nguoi-dan-khong-ra-khoi-nha-trong-7-ngay-4339386.html\n",
            "page: 61\n",
            "file created\n"
          ]
        }
      ]
    },
    {
      "cell_type": "code",
      "metadata": {
        "id": "i2P3A8Bi_HWG"
      },
      "source": [
        "from nltk.tokenize import word_tokenize,sent_tokenize\n",
        "def xoa_stop_word(chuoi):\n",
        "\tstop_words = set(stopwords.words('english'))\n",
        "\tword_tokens = word_tokenize(chuoi)\n",
        "\tfiltered_sentence = [w for w in word_tokens if not w in stop_words]\n",
        "\t# print(word_tokens)\n",
        "\t# print(filtered_sentence)\n",
        "\t# print(\"rut gon:\"+str(len(filtered_sentence))+\"|nguyen goc: \"+str(len(word_tokens)))\n",
        "\n",
        "\treturn filtered_sentence\n",
        "\n",
        "def xoa_ki_tu_phan_cach(chuoi):\n",
        "\tki_tu_rut_gon = '''!()-[]{};:'\"\\,<>./?@#$%^&*_~'''\n",
        "\tfor ki_tu in chuoi:\n",
        "\t\tif ki_tu in ki_tu_rut_gon:\n",
        "\t\t\tchuoi = chuoi.replace(ki_tu,\"\")\n",
        "\treturn chuoi\n",
        "\n",
        "def lay_noi_dung(url):\n",
        "\tresponse = requests.get(url)\n",
        "\tsoup = BeautifulSoup(response.content,'html.parser')\n",
        "\t# print(soup.title)\n",
        "\t# post_detail = soup.find('span',class_=\"lead_post_detail row\")\n",
        "\n",
        "\tall_text = soup.find_all('p',{'class':'Normal'})\n",
        "\tdoan_van = \"\"\n",
        "\t# doan_van+=post_detail.get_text().strip()\t\n",
        "\tfor i in all_text:\n",
        "\t\tdoan_van += i.get_text()\n",
        "\t# Lowercasting\n",
        "\tdoan_van=doan_van.lower()\n",
        "\tdoan_van.encode('utf-8')\n",
        "\n",
        "\tdoan_van = xoa_ki_tu_phan_cach(doan_van)\n",
        "\t# print(doan_van)\n",
        "\n",
        "\treturn doan_van\n",
        "\n",
        "def tach_cau(url1):\n",
        "\tresponse = requests.get(url1)\n",
        "\tsoup = BeautifulSoup(response.content,'html.parser')\n",
        "\tsoup.decode('utf-8')\n",
        "\t# print(soup.title)\n",
        "\t# post_detail = soup.find('span',class_=\"lead_post_detail row\")\n",
        "\n",
        "\tall_text = soup.find_all('p',{'class':'Normal'})\n",
        "\tdoan_van = \"\"\n",
        "\t# doan_van=post_detail.get_text().strip()\t\n",
        "\tfor i in all_text:\n",
        "\t\tdoan_van += i.get_text().strip()\n",
        "\tdoan_van = doan_van.replace(\".\",\". \")\n",
        "\t# Lowercasting\n",
        "\t# doan_van=doan_van.lower()\n",
        "\t# doan_van.encode('utf-8')\n",
        "\n",
        "\tmy_array = nltk.tokenize.sent_tokenize(doan_van)\n",
        "\treturn my_array\t  "
      ],
      "execution_count": null,
      "outputs": []
    },
    {
      "cell_type": "code",
      "metadata": {
        "id": "18ZpPPwu5PN7"
      },
      "source": [
        "def get_content_and_save_sentence_to_file(list_url):\n",
        "  index=0\n",
        "  for item in list_url:\n",
        "    index = index+1\n",
        "    print(item)\n",
        "    array_sentences = tach_cau(item)\n",
        "    \n",
        "    file_index = str(index)\n",
        "    with open(\"content_\"+file_index+'.txt', 'w') as filehandle:\n",
        "      for listitem in array_sentences:\n",
        "        filehandle.write('%s\\n' % listitem)\n",
        "    print(file_index+\" file created\")  \n"
      ],
      "execution_count": null,
      "outputs": []
    },
    {
      "cell_type": "code",
      "metadata": {
        "colab": {
          "base_uri": "https://localhost:8080/"
        },
        "id": "DxQF8q_DB_Ci",
        "outputId": "b465019f-83ee-4e5c-8d89-8121c7d3e260"
      },
      "source": [
        "nltk.download('punkt')\n",
        "get_content_and_save_sentence_to_file(list_url)"
      ],
      "execution_count": null,
      "outputs": [
        {
          "output_type": "stream",
          "name": "stdout",
          "text": [
            "https://vnexpress.net/di-doi-nguoi-dan-khoi-vung-dich-lon-nhat-ha-noi-4349945.html\n",
            "1 file created\n",
            "https://vnexpress.net/tre-lop-1-o-ha-noi-hoc-online-3-tiet-moi-ngay-4349932.html\n",
            "2 file created\n",
            "https://vnexpress.net/ha-noi-tiep-tuc-thuc-hien-nghiem-gian-cach-xa-hoi-4349667.html\n",
            "3 file created\n",
            "https://vnexpress.net/ha-noi-tiep-tuc-gian-cach-xa-hoi-4349667.html\n",
            "4 file created\n",
            "https://vnexpress.net/diem-tin-ha-noi-tiep-tuc-gian-cach-tp-hcm-sang-giai-doan-2-chong-dich-4349900.html\n",
            "5 file created\n",
            "https://vnexpress.net/diem-tin-ha-noi-co-the-tiep-tuc-gian-cach-tp-hcm-sang-giai-doan-2-chong-dich-4349900.html\n",
            "6 file created\n",
            "https://vnexpress.net/ha-noi-di-doi-1-200-nguoi-dan-trong-o-dich-lon-nhat-4349838.html\n",
            "7 file created\n",
            "https://vnexpress.net/ha-noi-di-doi-dan-trong-o-dich-lon-nhat-4349838.html\n",
            "8 file created\n",
            "https://vnexpress.net/diem-trung-tuyen-vao-lop-6-truong-ha-noi-amsterdam-4349855.html\n",
            "9 file created\n",
            "https://vnexpress.net/sinh-vien-hoc-quan-su-online-4349560.html\n",
            "10 file created\n",
            "https://vnexpress.net/pho-giam-doc-cdc-ha-noi-co-the-gian-cach-tiep-sau-6-9-4349493.html\n",
            "11 file created\n",
            "https://vnexpress.net/pho-giam-doc-cdc-ha-noi-co-the-can-gian-cach-tiep-sau-6-9-4349493.html\n",
            "12 file created\n",
            "https://vnexpress.net/sun-group-tai-tro-100-ty-dong-cho-benh-vien-dieu-tri-covid-19-4349468.html\n",
            "13 file created\n",
            "https://vnexpress.net/evnhanoi-dam-bao-nguon-dien-cho-cong-tac-chong-dich-4338475.html\n",
            "14 file created\n",
            "https://vnexpress.net/sau-tiem-vaccine-covid-19-co-duoc-uong-thuoc-tri-gout-4348515.html\n",
            "15 file created\n",
            "https://vnexpress.net/thu-tuong-kiem-tra-diem-nong-covid-19-tai-ha-noi-4349288.html\n",
            "16 file created\n",
            "https://vnexpress.net/thu-tuong-kiem-tra-chong-dich-o-diem-nong-covid-19-tai-ha-noi-4349288.html\n",
            "17 file created\n",
            "https://vnexpress.net/thu-tuong-nguoi-dan-ha-noi-ra-duong-con-kha-dong-4349288.html\n",
            "18 file created\n",
            "https://vnexpress.net/mong-ban-doi-hon-tuoi-hai-huoc-4349233.html\n",
            "19 file created\n",
            "https://vnexpress.net/ha-noi-yen-binh-trong-thoi-khac-chuyen-mua-4348589.html\n",
            "20 file created\n",
            "https://vnexpress.net/ha-noi-buon-trong-thoi-khac-chuyen-mua-4348589.html\n",
            "21 file created\n",
            "https://vnexpress.net/em-co-thich-chang-trai-don-gian-chan-that-4348978.html\n",
            "22 file created\n",
            "https://vnexpress.net/thu-nhap-bap-benh-khi-bo-pho-ve-que-4349024.html\n",
            "23 file created\n",
            "https://vnexpress.net/tpbank-chi-vien-may-tho-cao-cap-cho-loat-benh-vien-tuyen-dau-chong-dich-4348668.html\n",
            "24 file created\n",
            "https://vnexpress.net/thao-chay-sau-ba-thang-bo-pho-ve-que-4348424.html\n",
            "25 file created\n",
            "https://vnexpress.net/ba-noi-tro-so-huu-1-5-tan-noi-gang-thia-dia-4346857.html\n",
            "26 file created\n",
            "https://vnexpress.net/gan-mot-phan-ba-doanh-nghiep-o-cum-cong-nghiep-con-san-xuat-4348776.html\n",
            "27 file created\n",
            "https://vnexpress.net/o-dich-an-nap-trong-nhung-ngo-nho-ha-noi-4348362.html\n",
            "28 file created\n",
            "https://vnexpress.net/nu-nhan-vien-ngan-hang-chuyen-nghe-cham-soc-hoc-vien-truc-tuyen-4348610.html\n",
            "29 file created\n",
            "https://vnexpress.net/benh-vien-covid-500-giuong-o-ha-noi-sap-hoat-dong-4348652.html\n",
            "30 file created\n",
            "https://vnexpress.net/benh-vien-500-giuong-o-ha-noi-phuc-vu-benh-nhan-covid-19-nang-4348694.html\n",
            "31 file created\n",
            "https://vnexpress.net/benh-vien-da-chien-500-giuong-cho-benh-nhan-covid-19-nang-4348694.html\n",
            "32 file created\n",
            "https://vnexpress.net/benh-vien-da-chien-500-giuong-phuc-vu-benh-nhan-covid-19-nang-4348694.html\n",
            "33 file created\n",
            "https://vnexpress.net/co-du-nha-xe-sau-tam-nam-ve-tinh-lam-viec-4348532.html\n",
            "34 file created\n",
            "https://vnexpress.net/youtuber-jake-paul-thang-tran-quyen-anh-thu-tu-lien-tiep-4348555.html\n",
            "35 file created\n",
            "https://vnexpress.net/quang-liem-lao-doc-o-sieu-giai-aimchess-us-4348507.html\n",
            "36 file created\n",
            "https://vnexpress.net/nem-ran-ha-noi-chuan-vi-thom-ngon-4348382.html\n",
            "37 file created\n",
            "https://vnexpress.net/chang-trai-nhieu-khuyet-diem-tim-ban-gai-chan-thanh-4348053.html\n",
            "38 file created\n",
            "https://video.vnexpress.net/tin-tuc/thoi-su/benh-vien-da-chien-xay-moi-dau-tien-o-ha-noi-truoc-ngay-hoat-dong-4348211.html\n",
            "39 file created\n",
            "https://vnexpress.net/bi-thu-ha-noi-kien-tri-gian-cach-xa-hoi-4348276.html\n",
            "40 file created\n",
            "https://vnexpress.net/ha-noi-them-23-nguoi-nghi-covid-19-4348298.html\n",
            "41 file created\n",
            "https://vnexpress.net/cong-an-ha-noi-lap-them-6-to-co-dong-manh-4348226.html\n",
            "42 file created\n",
            "https://vnexpress.net/cong-an-ha-noi-lap-them-6-to-kiem-tra-co-dong-manh-4348226.html\n",
            "43 file created\n",
            "https://vnexpress.net/nu-sinh-ha-noi-gianh-giai-ba-quoc-te-viet-thu-upu-4347984.html\n",
            "44 file created\n",
            "https://vnexpress.net/vi-sao-mang-thai-can-tiem-vaccine-covid-19-4345191.html\n",
            "45 file created\n",
            "https://vnexpress.net/them-33-nguoi-ha-noi-nghi-covid-19-4347953.html\n",
            "46 file created\n",
            "https://vnexpress.net/covid-24h-tp-hcm-vuot-200-000-ca-ha-noi-len-2-kich-ban-xet-nghiem-4347882.html\n",
            "47 file created\n",
            "https://vnexpress.net/liverpool-chelsea-lukaku-da-chinh-4347756.html\n",
            "48 file created\n",
            "https://vnexpress.net/liverpool-chelsea-4347756.html\n",
            "49 file created\n",
            "https://vnexpress.net/diem-san-dai-hoc-y-ha-noi-tu-19-den-23-4347864.html\n",
            "50 file created\n",
            "https://vnexpress.net/hai-kich-ban-xet-nghiem-covid-19-tai-ha-noi-sau-6-9-4347705.html\n",
            "51 file created\n",
            "https://vnexpress.net/bi-thu-da-nang-ve-lau-dai-phai-tinh-song-chung-voi-dich-4349793.html\n",
            "52 file created\n",
            "https://vnexpress.net/da-nang-them-2-pho-chu-tich-thanh-pho-4349569.html\n",
            "53 file created\n",
            "https://vnexpress.net/covid-24h-tp-hcm-ca-tu-vong-tang-da-nang-phat-hien-o-dich-moi-4349299.html\n",
            "54 file created\n",
            "https://vnexpress.net/da-nang-phat-hien-o-dich-moi-o-chung-cu-87-ho-dan-4349173.html\n",
            "55 file created\n",
            "https://vnexpress.net/doanh-nhan-tre-tim-ban-gai-o-da-nang-4348656.html\n",
            "56 file created\n",
            "https://vnexpress.net/chang-bo-doi-hai-quan-tim-ban-doi-o-da-nang-4348698.html\n",
            "57 file created\n",
            "https://vnexpress.net/phat-dat-lien-tuc-thau-tom-dat-vang-4347706.html\n",
            "58 file created\n",
            "https://vnexpress.net/gan-100-xe-taxi-tham-gia-van-chuyen-f0-4346587.html\n",
            "59 file created\n",
            "https://vnexpress.net/quang-nam-khoi-dong-du-an-dai-hoc-da-nang-4347313.html\n",
            "60 file created\n",
            "https://vnexpress.net/them-nhieu-truong-y-duoc-cong-bo-diem-san-4347250.html\n",
            "61 file created\n",
            "https://vnexpress.net/quan-doi-cong-an-ho-tro-cung-ung-thuc-pham-cho-da-nang-4346823.html\n",
            "62 file created\n",
            "https://vnexpress.net/covid-24h-ca-nhiem-cong-dong-cao-tai-nhieu-tinh-thanh-4346385.html\n",
            "63 file created\n",
            "https://vnexpress.net/da-nang-gap-kho-trong-cung-ung-thuc-pham-4346047.html\n",
            "64 file created\n",
            "https://vnexpress.net/nguoi-da-nang-se-o-yen-trong-nha-them-10-ngay-4345726.html\n",
            "65 file created\n",
            "https://vnexpress.net/ba-quan-o-da-nang-vao-dien-nguy-co-rat-cao-ve-covid-19-4344999.html\n",
            "66 file created\n",
            "https://vnexpress.net/to-dan-pho-ba-trong-mot-ngay-da-nang-cach-ly-4344613.html\n",
            "67 file created\n",
            "https://vnexpress.net/chuoi-lay-nhiem-cho-dau-moi-khien-da-nang-keo-dai-cach-ly-4344393.html\n",
            "68 file created\n",
            "https://vnexpress.net/so-ca-covid-19-cong-dong-o-da-nang-ba-ngay-khong-giam-4344290.html\n",
            "69 file created\n",
            "https://vnexpress.net/nguoi-dan-da-nang-o-yen-trong-nha-them-3-ngay-4344092.html\n",
            "70 file created\n",
            "https://vnexpress.net/nhung-phu-nu-sap-bay-vay-tien-qua-app-4344101.html\n",
            "71 file created\n",
            "https://vnexpress.net/ban-an-tuong-voi-mon-an-da-nang-nao-nhat-4343721.html\n",
            "72 file created\n",
            "https://vnexpress.net/da-nang-xem-xet-cho-shipper-hoat-dong-tro-lai-4343841.html\n",
            "73 file created\n",
            "https://vnexpress.net/ga-trong-nuoi-con-tim-ga-mai-o-da-nang-4343473.html\n",
            "74 file created\n",
            "https://vnexpress.net/nhieu-nguoi-bi-xu-phat-vi-ra-khoi-nha-o-da-nang-4342421.html\n",
            "75 file created\n",
            "https://vnexpress.net/da-nang-phat-hien-29-ca-duong-tinh-qua-xet-nghiem-dien-rong-4342703.html\n",
            "76 file created\n",
            "https://vnexpress.net/cac-goi-an-sinh-xa-hoi-dang-phu-den-dau-4339802.html\n",
            "77 file created\n",
            "https://vnexpress.net/cac-goi-an-sinh-xa-hoi-dang-phu-duoc-den-dau-4339802.html\n",
            "78 file created\n",
            "https://vnexpress.net/da-nang-cap-phat-rau-xanh-cho-nguoi-dan-trong-dem-4342262.html\n",
            "79 file created\n",
            "https://vnexpress.net/da-nang-cap-phat-rau-xanh-khoai-tay-cho-nguoi-dan-4342262.html\n",
            "80 file created\n",
            "https://vnexpress.net/120-ca-covid-19-o-da-nang-trong-mot-ngay-4342138.html\n",
            "81 file created\n",
            "https://vnexpress.net/da-nang-ghi-nhan-96-ca-covid-19-trong-24-gio-4341578.html\n",
            "82 file created\n",
            "https://vnexpress.net/cao-toc-da-nang-quang-ngai-dung-thu-phi-4341506.html\n",
            "83 file created\n",
            "https://vnexpress.net/da-nang-ngay-dau-nguoi-dan-khong-ra-khoi-nha-4341326.html\n",
            "84 file created\n",
            "https://vnexpress.net/tim-nguoi-giu-mai-trai-tim-em-4341206.html\n",
            "85 file created\n",
            "https://vnexpress.net/da-nang-lap-ba-lop-kiem-soat-nguoi-dan-khong-ra-khoi-nha-4341130.html\n",
            "86 file created\n",
            "https://vnexpress.net/30-000-suat-nhu-yeu-pham-cho-nguoi-ngheo-da-nang-4341040.html\n",
            "87 file created\n",
            "https://vnexpress.net/nhan-hang-ich-nhi-tang-qua-cho-tre-cach-ly-4340448.html\n",
            "88 file created\n",
            "https://vnexpress.net/vaccine-covid-19-bao-ve-co-the-bao-lau-4340463.html\n",
            "89 file created\n",
            "https://vnexpress.net/covid-24h-viet-nam-ghi-nhan-ngay-nhieu-ca-nhiem-nhat-da-nang-dong-cua-mot-tuan-4340745.html\n",
            "90 file created\n",
            "https://vnexpress.net/covid-24h-vn-ghi-nhan-ngay-nhieu-ca-nhiem-nhat-da-nang-dong-cua-mot-tuan-4340745.html\n",
            "91 file created\n",
            "https://vnexpress.net/ai-duoc-ra-duong-khi-da-nang-dung-hoat-dong-7-ngay-4340703.html\n",
            "92 file created\n",
            "https://vnexpress.net/sieu-thi-tru-thuc-pham-du-cho-nguoi-da-nang-trong-20-30-ngay-4340610.html\n",
            "93 file created\n",
            "https://vnexpress.net/duong-pho-da-nang-dong-nguoi-truoc-ngay-o-yen-trong-nha-4340514.html\n",
            "94 file created\n",
            "https://vnexpress.net/nguoi-da-nang-do-ra-duong-truoc-ngay-o-yen-trong-nha-4340514.html\n",
            "95 file created\n",
            "https://vnexpress.net/nguoi-dan-da-nang-nha-trang-khong-ra-khoi-nha-trong-7-ngay-4340435.html\n",
            "96 file created\n",
            "https://vnexpress.net/da-nang-dung-tat-ca-hoat-dong-trong-7-ngay-4340435.html\n",
            "97 file created\n",
            "https://vnexpress.net/nguoi-da-nang-keo-nhau-di-cho-4340097.html\n",
            "98 file created\n",
            "https://vnexpress.net/covid-24h-tp-hcm-quyet-giu-vung-xanh-da-nang-tinh-siet-gian-cach-4339753.html\n",
            "99 file created\n",
            "https://vnexpress.net/da-nang-len-ke-hoach-nguoi-dan-khong-ra-khoi-nha-trong-7-ngay-4339386.html\n",
            "100 file created\n"
          ]
        }
      ]
    },
    {
      "cell_type": "code",
      "metadata": {
        "colab": {
          "base_uri": "https://localhost:8080/"
        },
        "id": "fL4TOPEBFmV0",
        "outputId": "2d4d4f48-d635-4b9b-bf66-4bfaabe7a994"
      },
      "source": [
        "!pip install underthesea"
      ],
      "execution_count": null,
      "outputs": [
        {
          "output_type": "stream",
          "name": "stdout",
          "text": [
            "Collecting underthesea\n",
            "  Downloading underthesea-1.3.2-py3-none-any.whl (7.5 MB)\n",
            "\u001b[K     |████████████████████████████████| 7.5 MB 3.8 MB/s \n",
            "\u001b[?25hRequirement already satisfied: tqdm in /usr/local/lib/python3.7/dist-packages (from underthesea) (4.62.0)\n",
            "Requirement already satisfied: Click>=6.0 in /usr/local/lib/python3.7/dist-packages (from underthesea) (7.1.2)\n",
            "Requirement already satisfied: scikit-learn in /usr/local/lib/python3.7/dist-packages (from underthesea) (0.22.2.post1)\n",
            "Requirement already satisfied: nltk in /usr/local/lib/python3.7/dist-packages (from underthesea) (3.2.5)\n",
            "Collecting torch<=1.5.1,>=1.1.0\n",
            "  Downloading torch-1.5.1-cp37-cp37m-manylinux1_x86_64.whl (753.2 MB)\n",
            "\u001b[K     |████████████████████████████████| 753.2 MB 9.8 kB/s \n",
            "\u001b[?25hCollecting transformers<=3.5.1,>=3.5.0\n",
            "  Downloading transformers-3.5.1-py3-none-any.whl (1.3 MB)\n",
            "\u001b[K     |████████████████████████████████| 1.3 MB 47.4 MB/s \n",
            "\u001b[?25hRequirement already satisfied: PyYAML in /usr/local/lib/python3.7/dist-packages (from underthesea) (3.13)\n",
            "Collecting unidecode\n",
            "  Downloading Unidecode-1.2.0-py2.py3-none-any.whl (241 kB)\n",
            "\u001b[K     |████████████████████████████████| 241 kB 77.3 MB/s \n",
            "\u001b[?25hCollecting seqeval\n",
            "  Downloading seqeval-1.2.2.tar.gz (43 kB)\n",
            "\u001b[K     |████████████████████████████████| 43 kB 1.7 MB/s \n",
            "\u001b[?25hRequirement already satisfied: requests in /usr/local/lib/python3.7/dist-packages (from underthesea) (2.23.0)\n",
            "Collecting python-crfsuite>=0.9.6\n",
            "  Downloading python_crfsuite-0.9.7-cp37-cp37m-manylinux1_x86_64.whl (743 kB)\n",
            "\u001b[K     |████████████████████████████████| 743 kB 39.4 MB/s \n",
            "\u001b[?25hRequirement already satisfied: joblib in /usr/local/lib/python3.7/dist-packages (from underthesea) (1.0.1)\n",
            "Requirement already satisfied: chardet in /usr/local/lib/python3.7/dist-packages (from underthesea) (3.0.4)\n",
            "Requirement already satisfied: future in /usr/local/lib/python3.7/dist-packages (from torch<=1.5.1,>=1.1.0->underthesea) (0.16.0)\n",
            "Requirement already satisfied: numpy in /usr/local/lib/python3.7/dist-packages (from torch<=1.5.1,>=1.1.0->underthesea) (1.19.5)\n",
            "Collecting tokenizers==0.9.3\n",
            "  Downloading tokenizers-0.9.3-cp37-cp37m-manylinux1_x86_64.whl (2.9 MB)\n",
            "\u001b[K     |████████████████████████████████| 2.9 MB 45.2 MB/s \n",
            "\u001b[?25hRequirement already satisfied: regex!=2019.12.17 in /usr/local/lib/python3.7/dist-packages (from transformers<=3.5.1,>=3.5.0->underthesea) (2019.12.20)\n",
            "Collecting sacremoses\n",
            "  Downloading sacremoses-0.0.45-py3-none-any.whl (895 kB)\n",
            "\u001b[K     |████████████████████████████████| 895 kB 74.7 MB/s \n",
            "\u001b[?25hRequirement already satisfied: filelock in /usr/local/lib/python3.7/dist-packages (from transformers<=3.5.1,>=3.5.0->underthesea) (3.0.12)\n",
            "Collecting sentencepiece==0.1.91\n",
            "  Downloading sentencepiece-0.1.91-cp37-cp37m-manylinux1_x86_64.whl (1.1 MB)\n",
            "\u001b[K     |████████████████████████████████| 1.1 MB 36.6 MB/s \n",
            "\u001b[?25hRequirement already satisfied: packaging in /usr/local/lib/python3.7/dist-packages (from transformers<=3.5.1,>=3.5.0->underthesea) (21.0)\n",
            "Requirement already satisfied: protobuf in /usr/local/lib/python3.7/dist-packages (from transformers<=3.5.1,>=3.5.0->underthesea) (3.17.3)\n",
            "Requirement already satisfied: six in /usr/local/lib/python3.7/dist-packages (from nltk->underthesea) (1.15.0)\n",
            "Requirement already satisfied: pyparsing>=2.0.2 in /usr/local/lib/python3.7/dist-packages (from packaging->transformers<=3.5.1,>=3.5.0->underthesea) (2.4.7)\n",
            "Requirement already satisfied: urllib3!=1.25.0,!=1.25.1,<1.26,>=1.21.1 in /usr/local/lib/python3.7/dist-packages (from requests->underthesea) (1.24.3)\n",
            "Requirement already satisfied: certifi>=2017.4.17 in /usr/local/lib/python3.7/dist-packages (from requests->underthesea) (2021.5.30)\n",
            "Requirement already satisfied: idna<3,>=2.5 in /usr/local/lib/python3.7/dist-packages (from requests->underthesea) (2.10)\n",
            "Requirement already satisfied: scipy>=0.17.0 in /usr/local/lib/python3.7/dist-packages (from scikit-learn->underthesea) (1.4.1)\n",
            "Building wheels for collected packages: seqeval\n",
            "  Building wheel for seqeval (setup.py) ... \u001b[?25l\u001b[?25hdone\n",
            "  Created wheel for seqeval: filename=seqeval-1.2.2-py3-none-any.whl size=16181 sha256=b94ea7e4cb640fe5fceaa24eabc671e2484b6332bbea09feaa14d760786300c7\n",
            "  Stored in directory: /root/.cache/pip/wheels/05/96/ee/7cac4e74f3b19e3158dce26a20a1c86b3533c43ec72a549fd7\n",
            "Successfully built seqeval\n",
            "Installing collected packages: tokenizers, sentencepiece, sacremoses, unidecode, transformers, torch, seqeval, python-crfsuite, underthesea\n",
            "  Attempting uninstall: torch\n",
            "    Found existing installation: torch 1.9.0+cu102\n",
            "    Uninstalling torch-1.9.0+cu102:\n",
            "      Successfully uninstalled torch-1.9.0+cu102\n",
            "\u001b[31mERROR: pip's dependency resolver does not currently take into account all the packages that are installed. This behaviour is the source of the following dependency conflicts.\n",
            "torchvision 0.10.0+cu102 requires torch==1.9.0, but you have torch 1.5.1 which is incompatible.\n",
            "torchtext 0.10.0 requires torch==1.9.0, but you have torch 1.5.1 which is incompatible.\u001b[0m\n",
            "Successfully installed python-crfsuite-0.9.7 sacremoses-0.0.45 sentencepiece-0.1.91 seqeval-1.2.2 tokenizers-0.9.3 torch-1.5.1 transformers-3.5.1 underthesea-1.3.2 unidecode-1.2.0\n"
          ]
        }
      ]
    },
    {
      "cell_type": "code",
      "metadata": {
        "id": "x6ZtqklGG-59"
      },
      "source": [
        "def read_line(filename):\n",
        "  testsite_array = []\n",
        "  with open(filename) as my_file:\n",
        "    for line in my_file:\n",
        "      testsite_array.append(line)\n",
        "  return testsite_array\n",
        "\n",
        "def tu_ghep(file_name):  \n",
        "  sentences = read_line(file_name)\n",
        "  new_sentences=[]\n",
        "  from underthesea import word_tokenize\n",
        "  for i in sentences:\n",
        "    t = word_tokenize(i, format=\"text\")\n",
        "    new_sentences.append(t)\n",
        "  return new_sentences  \n"
      ],
      "execution_count": null,
      "outputs": []
    },
    {
      "cell_type": "code",
      "metadata": {
        "colab": {
          "base_uri": "https://localhost:8080/"
        },
        "id": "c0oHscktIPkS",
        "outputId": "61b478f3-d857-4ed7-ece7-c47bff479993"
      },
      "source": [
        "mang_tu_ghep = tu_ghep('content_1.txt')\n",
        "print(mang_tu_ghep)"
      ],
      "execution_count": null,
      "outputs": [
        {
          "output_type": "stream",
          "name": "stdout",
          "text": [
            "['Để giãn dân nhằm ngăn lây_lan dịch_Covid-19 , quận Thanh_Xuân lên phương_án di_chuyển gần 1 .', '200 người đến ở ký_túc_xá Đại_học_FPT ( Hòa_Lạc ) .', '19 h ngày 1/9 , lực_lượng chức_năng bắt_đầu di_dời người dân khỏi khu_vực phong_tỏa .', 'Để giãn dân nhằm ngăn lây_lan dịch_Covid-19 , quận Thanh_Xuân lên phương_án di_chuyển gần 1 .', '200 người đến ở ký_túc_xá Đại_học_FPT ( Hòa_Lạc ) .', '19 h ngày 1/9 , lực_lượng chức_năng bắt_đầu di_dời người dân khỏi khu_vực phong_tỏa .', 'Theo kế_hoạch , việc di_dời chia thành 10 đợt ( từ tối 1 đến hết ngày 3/9 ) , mỗi đợt 10 xe_buýt loại 45 chỗ , mỗi xe chở từ 20 đến 25 người .', 'Theo kế_hoạch , việc di_dời chia thành 10 đợt ( từ tối 1 đến hết ngày 3/9 ) , mỗi đợt 10 xe_buýt loại 45 chỗ , mỗi xe chở từ 20 đến 25 người .', 'Ban_Chỉ_huy quân_sự quận bố_trí 18 dân_quân trực_tiếp ở vòng trong cùng với chính_quyền địa_phương tuyên_truyền , vận_động và thu_gom đồ_đạc giúp nhân_dân .', 'Quận Thanh_Xuân đã lập ba tổ công_tác làm nhiệm_vụ đưa người dân di_dời .', 'Chính_quyền gửi thư_ngỏ \" đề_nghị công_dân ở khu_vực phong_tỏa đồng_thuận , sẵn_sàng tư_thế , chủ_động chuẩn_bị tư_trang cá_nhân của thành_viên trong gia_đình , khi nhận được thông_báo của phường Thanh_Xuân_Trung cần chấp_hành đi cách_ly tập_trung \" .', 'Ban_Chỉ_huy quân_sự quận bố_trí 18 dân_quân trực_tiếp ở vòng trong cùng với chính_quyền địa_phương tuyên_truyền , vận_động và thu_gom đồ_đạc giúp nhân_dân .', 'Quận Thanh_Xuân đã lập ba tổ công_tác làm nhiệm_vụ đưa người dân di_dời .', 'Chính_quyền gửi thư_ngỏ \" đề_nghị công_dân ở khu_vực phong_tỏa đồng_thuận , sẵn_sàng tư_thế , chủ_động chuẩn_bị tư_trang cá_nhân của thành_viên trong gia_đình , khi nhận được thông_báo của phường Thanh_Xuân_Trung cần chấp_hành đi cách_ly tập_trung \" .', 'Để đảm_bảo an_toàn , người dân lần_lượt được di_chuyển , bắt_đầu là những hộ ở giáp đường Nguyễn_Trãi .', 'Để đảm_bảo an_toàn , người dân lần_lượt được di_chuyển , bắt_đầu là những hộ ở giáp đường Nguyễn_Trãi .', 'UBND phường lập danh_sách người già , người có bệnh nền trong khu_vực phong_tỏa để có phương_án chăm_sóc .', 'UBND phường lập danh_sách người già , người có bệnh nền trong khu_vực phong_tỏa để có phương_án chăm_sóc .', 'Đợt đầu_tiên tối 1/9 , đã có 100 trường_hợp được di_chuyển .', 'Trước đó , quận đã đưa khoảng 600 người đi chữa bệnh và cách_ly tập_trung .', 'Đợt đầu_tiên tối 1/9 , đã có 100 trường_hợp được di_chuyển .', 'Trước đó , quận đã đưa khoảng 600 người đi chữa bệnh và cách_ly tập_trung .', 'Em nhỏ vẫy_tay chào mọi người khi xe bắt_đầu lăn bánh đến nơi cách_ly tập_trung .', 'Em nhỏ vẫy_tay chào mọi người khi xe bắt_đầu lăn bánh đến nơi cách_ly tập_trung .', 'Công_an quận sẽ giữ_gìn tài_sản , đảm_bảo phòng_chống cháy nổ cho các hộ gia_đình khi đi cách_ly .', 'Khu dân_cư ngõ 328 và 330 Nguyễn_Trãi , phường Thanh_Xuân_Trung , có 690 hộ và 1 .', '304 nhân_khẩu .', 'Đây là khu dân_cư lâu năm , ẩm_thấp , diện_tích chật_hẹp , mật_độ dân_số đông , có khu_vực còn sử_dụng nhà_vệ_sinh chung .', '.', '.', 'Đến chiều 1/9 , ổ dịch tại phường Thanh_Xuân_Trung đã ghi_nhận 379 ca và có xu_hướng tăng .', 'Hiện đây là ổ dịch lớn nhất thủ_đô , tính từ khi có dịch ( ngày 6/3/2020 ) .', 'Công_an quận sẽ giữ_gìn tài_sản , đảm_bảo phòng_chống cháy nổ cho các hộ gia_đình khi đi cách_ly .', 'Khu dân_cư ngõ 328 và 330 Nguyễn_Trãi , phường Thanh_Xuân_Trung , có 690 hộ và 1 .', '304 nhân_khẩu .', 'Đây là khu dân_cư lâu năm , ẩm_thấp , diện_tích chật_hẹp , mật_độ dân_số đông , có khu_vực còn sử_dụng nhà_vệ_sinh chung .', '.', '.', 'Đến chiều 1/9 , ổ dịch tại phường Thanh_Xuân_Trung đã ghi_nhận 379 ca và có xu_hướng tăng .', 'Hiện đây là ổ dịch lớn nhất thủ_đô , tính từ khi có dịch ( ngày 6/3/2020 ) .']\n"
          ]
        }
      ]
    },
    {
      "cell_type": "code",
      "metadata": {
        "id": "qf-o-I5dJRRA"
      },
      "source": [
        "def danh_tu_rieng(cau):\n",
        "  from underthesea import pos_tag\n",
        "  mang = pos_tag(cau)\n",
        "  mang2 = []\n",
        "  for i in mang:\n",
        "    if(i[1]=='Np'):\n",
        "      mang2.append(i[0])\n",
        "  return mang2  "
      ],
      "execution_count": null,
      "outputs": []
    },
    {
      "cell_type": "code",
      "metadata": {
        "colab": {
          "base_uri": "https://localhost:8080/"
        },
        "id": "dxXfXHUkKk4M",
        "outputId": "ec93b6a8-5c07-41a8-8fdd-4104033dd36e"
      },
      "source": [
        "cau = danh_tu_rieng('Chợ thịt chó nổi tiếng ở Sài Gòn bị truy quét')\n",
        "print(cau)"
      ],
      "execution_count": null,
      "outputs": [
        {
          "output_type": "stream",
          "name": "stdout",
          "text": [
            "['Sài Gòn']\n"
          ]
        }
      ]
    },
    {
      "cell_type": "code",
      "metadata": {
        "colab": {
          "base_uri": "https://localhost:8080/"
        },
        "id": "jBeDyhq9K8Ud",
        "outputId": "be641210-3c0c-47e5-8432-71ff6cfc727f"
      },
      "source": [
        "array_dia_diem = []\n",
        "def luu_file_dia_diem(list_url):\n",
        "  array_dia_diem = []\n",
        "  dia_diem='da-nang'\n",
        "  # dia_diem='ha-noi'\n",
        "  for i in list_url:\n",
        "    if(dia_diem in i):\n",
        "      array_dia_diem.append(i)\n",
        "  with open(dia_diem+'.txt', 'w') as filehandle:\n",
        "    for listitem in array_dia_diem:\n",
        "      filehandle.write('%s\\n' % listitem)\n",
        "    print(dia_diem+\" file created\") \n",
        "  return array_dia_diem  \n",
        "array_dia_diem = luu_file_dia_diem(list_url)     \n"
      ],
      "execution_count": null,
      "outputs": [
        {
          "output_type": "stream",
          "name": "stdout",
          "text": [
            "da-nang file created\n"
          ]
        }
      ]
    },
    {
      "cell_type": "code",
      "metadata": {
        "colab": {
          "base_uri": "https://localhost:8080/"
        },
        "id": "C8Hzc1HuNMnL",
        "outputId": "9c0c7123-cd3d-4ebd-81da-e72537655dd7"
      },
      "source": [
        "#  underthesea download-model TC_GENERAL\n",
        "def phan_loai_bai_viet(list_url):\n",
        "  from underthesea import classify\n",
        "  tieu_de_array = []\n",
        "  chu_de_array =[]\n",
        "  for link in list_url:\n",
        "    response = requests.get(link)\n",
        "    soup = BeautifulSoup(response.content,'html.parser')\n",
        "    tmp = soup.title.text\n",
        "    print(tmp)\n",
        "    tieu_de_array.append(tmp)\n",
        "  for tieu_de in tieu_de_array:\n",
        "    t = classify(tieu_de)\n",
        "    for t2 in t:\n",
        "      if(t2 in chu_de_array):\n",
        "        continue\n",
        "      else:  \n",
        "        chu_de_array.append(t2)\n",
        "    # t = classify('Hi  ̄dng t vn kinh doanh Asean vinh danh gii thng quc t')\n",
        "    print(chu_de_array)\n",
        "  pass\n",
        "phan_loai_bai_viet(array_dia_diem)  "
      ],
      "execution_count": null,
      "outputs": [
        {
          "output_type": "stream",
          "name": "stdout",
          "text": [
            "Bí thư Đà Nẵng Nguyễn Văn Quảng: Về lâu dài phải tính 'sống chung với Covid-19'\n",
            "Đà Nẵng thêm 2 Phó chủ tịch thành phố - VnExpress\n",
            "Covid 24h: TP HCM ca tử vong tăng, Đà Nẵng phát hiện ổ dịch mới - VnExpress\n",
            "Đà Nẵng phát hiện ổ dịch Covid-19 mới ở chung cư E2 Hòa Xuân\n",
            "Doanh nhân trẻ tìm bạn gái ở Đà Nẵng - VnExpress\n",
            "Chàng bộ đội hải quân tìm bạn đời ở Đà Nẵng - VnExpress\n",
            "Quảng Nam khởi động dự án Đại học Đà Nẵng - VnExpress\n",
            "Quân đội, công an hỗ trợ cung ứng thực phẩm cho Đà Nẵng - VnExpress\n",
            "Đà Nẵng gặp khó trong cung ứng thực phẩm - VnExpress\n",
            "Covid-19: Người Đà Nẵng sẽ 'ở yên trong nhà' thêm 10 ngày\n",
            "Ba quận ở Đà Nẵng vào diện 'nguy cơ rất cao' về Covid-19 - VnExpress\n",
            "Tổ dân phố 'ba trong một' ngày Đà Nẵng cách ly vì COVID-19\n",
            "Chuỗi lây nhiễm chợ đầu mối khiến Đà Nẵng kéo dài cách ly - VnExpress\n",
            "Số ca Covid-19 cộng đồng ở Đà Nẵng ba ngày không giảm - VnExpress\n",
            "Covid-19: Người dân Đà Nẵng 'ở yên trong nhà' thêm 3 ngày\n",
            "Bạn ấn tượng với món ăn Đà Nẵng nào nhất? - VnExpress Du lịch\n",
            "Đà Nẵng xem xét cho shipper hoạt động trở lại - VnExpress\n",
            "'Gà trống nuôi con' tìm 'gà mái' ở Đà Nẵng - VnExpress\n",
            "COVID-19: Nhiều người bị xử phạt vì 'ra khỏi nhà' ở Đà Nẵng\n",
            "Đà Nẵng phát hiện 29 ca COVID-19 qua xét nghiệm diện rộng\n",
            "Đà Nẵng cấp phát rau xanh cho người dân trong đêm - VnExpress\n",
            "Đà Nẵng cấp phát rau xanh cho người dân trong đêm - VnExpress\n",
            "120 ca Covid-19 ở Đà Nẵng trong một ngày - VnExpress Sức khỏe\n",
            "Đà Nẵng ghi nhận 96 ca Covid-19 trong 24 giờ - VnExpress Sức khỏe\n",
            "Cao tốc Đà Nẵng - Quảng Ngãi dừng thu phí - VnExpress\n",
            "Đà Nẵng ngày đầu người dân 'không ra khỏi nhà' - VnExpress\n",
            "Đà Nẵng lập ba lớp kiểm soát người dân 'không ra khỏi nhà' - VnExpress\n",
            "30.000 suất nhu yếu phẩm cho người nghèo Đà Nẵng - VnExpress\n",
            "Covid 24h: Việt Nam ghi nhận ngày nhiều ca nhiễm nhất, Đà Nẵng 'đóng cửa' một tuần - VnExpress\n",
            "Covid 24h: Việt Nam ghi nhận ngày nhiều ca nhiễm nhất, Đà Nẵng 'đóng cửa' một tuần - VnExpress\n",
            "Ai được ra đường khi Đà Nẵng 'dừng hoạt động 7 ngày'? - VnExpress\n",
            "'Siêu thị trữ thực phẩm đủ cho người Đà Nẵng trong 20-30 ngày' - VnExpress Kinh doanh\n",
            "Đường phố Đà Nẵng đông người trước ngày 'ở yên trong nhà' - VnExpress\n",
            "Đường phố Đà Nẵng đông người trước ngày 'ở yên trong nhà' - VnExpress\n",
            "Người dân Đà Nẵng, Nha Trang 'không ra khỏi nhà' trong 7 ngày - VnExpress\n",
            "Người dân Đà Nẵng, Nha Trang 'không ra khỏi nhà' trong 7 ngày - VnExpress\n",
            "Người Đà Nẵng kéo nhau đi chợ - VnExpress\n",
            "Covid 24h: TP HCM quyết giữ 'vùng xanh', Đà Nẵng tính siết giãn cách - VnExpress\n",
            "Đà Nẵng lên kế hoạch 'người dân không ra khỏi nhà' trong 7 ngày - VnExpress\n",
            "['chinh_tri_xa_hoi']\n",
            "['chinh_tri_xa_hoi']\n",
            "['chinh_tri_xa_hoi', 'suc_khoe']\n",
            "['chinh_tri_xa_hoi', 'suc_khoe']\n",
            "['chinh_tri_xa_hoi', 'suc_khoe', 'doi_song']\n",
            "['chinh_tri_xa_hoi', 'suc_khoe', 'doi_song']\n",
            "['chinh_tri_xa_hoi', 'suc_khoe', 'doi_song']\n",
            "['chinh_tri_xa_hoi', 'suc_khoe', 'doi_song', 'phap_luat']\n",
            "['chinh_tri_xa_hoi', 'suc_khoe', 'doi_song', 'phap_luat']\n",
            "['chinh_tri_xa_hoi', 'suc_khoe', 'doi_song', 'phap_luat']\n",
            "['chinh_tri_xa_hoi', 'suc_khoe', 'doi_song', 'phap_luat']\n",
            "['chinh_tri_xa_hoi', 'suc_khoe', 'doi_song', 'phap_luat']\n",
            "['chinh_tri_xa_hoi', 'suc_khoe', 'doi_song', 'phap_luat']\n",
            "['chinh_tri_xa_hoi', 'suc_khoe', 'doi_song', 'phap_luat']\n",
            "['chinh_tri_xa_hoi', 'suc_khoe', 'doi_song', 'phap_luat']\n",
            "['chinh_tri_xa_hoi', 'suc_khoe', 'doi_song', 'phap_luat']\n",
            "['chinh_tri_xa_hoi', 'suc_khoe', 'doi_song', 'phap_luat']\n",
            "['chinh_tri_xa_hoi', 'suc_khoe', 'doi_song', 'phap_luat']\n",
            "['chinh_tri_xa_hoi', 'suc_khoe', 'doi_song', 'phap_luat']\n",
            "['chinh_tri_xa_hoi', 'suc_khoe', 'doi_song', 'phap_luat']\n",
            "['chinh_tri_xa_hoi', 'suc_khoe', 'doi_song', 'phap_luat']\n",
            "['chinh_tri_xa_hoi', 'suc_khoe', 'doi_song', 'phap_luat']\n",
            "['chinh_tri_xa_hoi', 'suc_khoe', 'doi_song', 'phap_luat']\n",
            "['chinh_tri_xa_hoi', 'suc_khoe', 'doi_song', 'phap_luat']\n",
            "['chinh_tri_xa_hoi', 'suc_khoe', 'doi_song', 'phap_luat']\n",
            "['chinh_tri_xa_hoi', 'suc_khoe', 'doi_song', 'phap_luat']\n",
            "['chinh_tri_xa_hoi', 'suc_khoe', 'doi_song', 'phap_luat']\n",
            "['chinh_tri_xa_hoi', 'suc_khoe', 'doi_song', 'phap_luat']\n",
            "['chinh_tri_xa_hoi', 'suc_khoe', 'doi_song', 'phap_luat', 'van_hoa']\n",
            "['chinh_tri_xa_hoi', 'suc_khoe', 'doi_song', 'phap_luat', 'van_hoa']\n",
            "['chinh_tri_xa_hoi', 'suc_khoe', 'doi_song', 'phap_luat', 'van_hoa']\n",
            "['chinh_tri_xa_hoi', 'suc_khoe', 'doi_song', 'phap_luat', 'van_hoa', 'kinh_doanh']\n",
            "['chinh_tri_xa_hoi', 'suc_khoe', 'doi_song', 'phap_luat', 'van_hoa', 'kinh_doanh']\n",
            "['chinh_tri_xa_hoi', 'suc_khoe', 'doi_song', 'phap_luat', 'van_hoa', 'kinh_doanh']\n",
            "['chinh_tri_xa_hoi', 'suc_khoe', 'doi_song', 'phap_luat', 'van_hoa', 'kinh_doanh']\n",
            "['chinh_tri_xa_hoi', 'suc_khoe', 'doi_song', 'phap_luat', 'van_hoa', 'kinh_doanh']\n",
            "['chinh_tri_xa_hoi', 'suc_khoe', 'doi_song', 'phap_luat', 'van_hoa', 'kinh_doanh']\n",
            "['chinh_tri_xa_hoi', 'suc_khoe', 'doi_song', 'phap_luat', 'van_hoa', 'kinh_doanh']\n",
            "['chinh_tri_xa_hoi', 'suc_khoe', 'doi_song', 'phap_luat', 'van_hoa', 'kinh_doanh']\n"
          ]
        }
      ]
    },
    {
      "cell_type": "code",
      "metadata": {
        "colab": {
          "base_uri": "https://localhost:8080/"
        },
        "id": "P7UWHPHmQDg2",
        "outputId": "f2e4a3b9-25a2-451e-e9f5-467cd3ab9108"
      },
      "source": [
        "!underthesea download-model TC_GENERAL\n",
        "!underthesea download-model TC_BANK"
      ],
      "execution_count": null,
      "outputs": [
        {
          "output_type": "stream",
          "name": "stdout",
          "text": [
            "No matching distribution found for 'TC_GENERAL'\n",
            "2021-09-01 16:54:42,322 https://www.dropbox.com/s/prrjlypbrr6ze6p/tc_svm_uts2017_bank_20190607.zip?dl=1 not found in cache, downloading to /tmp/tmpv7ar1sbd\n",
            "100% 15364692/15364692 [00:01<00:00, 8733278.45B/s] \n",
            "2021-09-01 16:54:45,886 copying /tmp/tmpv7ar1sbd to cache at /root/.underthesea/models/tc_svm_uts2017_bank_20190607.zip?dl=1\n",
            "2021-09-01 16:54:45,921 removing temp file /tmp/tmpv7ar1sbd\n"
          ]
        }
      ]
    }
  ]
}